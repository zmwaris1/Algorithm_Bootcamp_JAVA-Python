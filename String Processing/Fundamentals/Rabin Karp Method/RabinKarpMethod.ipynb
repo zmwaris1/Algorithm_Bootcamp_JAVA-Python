{
 "cells": [
  {
   "cell_type": "markdown",
   "metadata": {},
   "source": [
    "### Rabin Karp Algorithm for String Matching"
   ]
  },
  {
   "cell_type": "markdown",
   "metadata": {},
   "source": [
    "#### Problem:\n",
    "\n",
    "Given two strings - a pattern $s$ and a text $t$, determine if the pattern appears in text and if it does, enumerate all its occurences in $O(|s| + |t|)$ time."
   ]
  },
  {
   "cell_type": "markdown",
   "metadata": {},
   "source": [
    "#### Algorithm:\n",
    "\n",
    "Calculate the hash for the pattern $s$. Calculate hash values for all the prefixes of the text $t$. Now we compare a substring of length $|s|$ with $s$ in constant time using the calculated hashes. So, compare each substring of length $|s|$ with the pattern. This will take $O(|t|)$ time. Hence, the final complexity of the algorithm is $O(|t|+|s|)$:\n",
    "\n",
    "where, $O(|s|)$ is required for calculating the hash of the pattern and $O(|t|)$ for comparing each substring of length $|s|$ with the pattern."
   ]
  }
 ],
 "metadata": {
  "language_info": {
   "name": "python"
  },
  "orig_nbformat": 4
 },
 "nbformat": 4,
 "nbformat_minor": 2
}
