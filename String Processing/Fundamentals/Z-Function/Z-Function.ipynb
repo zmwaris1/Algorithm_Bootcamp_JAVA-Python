{
 "cells": [
  {
   "cell_type": "markdown",
   "metadata": {},
   "source": [
    "### Z-Function"
   ]
  },
  {
   "cell_type": "markdown",
   "metadata": {},
   "source": [
    "Suppose we are given a string $s$ of length $n$. The Z-function for this string is an array of length of $n$ where the $i$-th element is equal to the greatest number of characters starting from the position $i$ that coincide with first character of $s$."
   ]
  },
  {
   "cell_type": "markdown",
   "metadata": {},
   "source": [
    "In other words, $z[i]$ is the length of the longest common prefix between $s$ and the suffix of $s$ starting at $i$.\n",
    "\n",
    "<b>Note</b>. In this article, to avoid ambiguity, we assume $0$-based indexes; that is; the first character of $s$ has index $0$ and the last one has index $n-1$."
   ]
  },
  {
   "cell_type": "markdown",
   "metadata": {},
   "source": [
    "The first element of Z-function, $z[0]$ is generally not well defined. In this article we will assume it is zero (although it doesn't change anything in the algorithm implementation)."
   ]
  },
  {
   "cell_type": "markdown",
   "metadata": {},
   "source": [
    "This article presents an algorithm for calculating the Z-function in $O(n)$ time, as well as various of its applications."
   ]
  },
  {
   "cell_type": "markdown",
   "metadata": {},
   "source": [
    "#### Trivial algorithm"
   ]
  },
  {
   "cell_type": "markdown",
   "metadata": {},
   "source": [
    "We just iterate through every position $i$ and update $z[i]$ for each one of them, starting from $z[i] = 0$ and incrementing it as long as we don't find a mismatch."
   ]
  },
  {
   "cell_type": "markdown",
   "metadata": {},
   "source": [
    "#### Efficient algorithm to compute Z-function"
   ]
  },
  {
   "cell_type": "markdown",
   "metadata": {},
   "source": [
    "To obtain an efficient algorithm we will compute the values of $z[i]$ in turn from $i=1$ to $n-1$ but at the same time, when computing a new value, we'll try to make the best use possible of the previously computed values."
   ]
  },
  {
   "cell_type": "markdown",
   "metadata": {},
   "source": [
    "To do this, we will keep the $[l, r]$ indices of the rightmost segment match. That is, among all detected segements we will keep the one that ends rightmost. In a way, the index $r$ can be seen as the \"boundary\" to which our string $s$ has been scanned by the algorithm; everything beyond that point is not yet known."
   ]
  },
  {
   "cell_type": "markdown",
   "metadata": {},
   "source": [
    "Then, if the current index(for which we have to compute the next value of the Z-function) is $i$, we have two options:\n",
    "\n",
    "1. $i>r$ - the current position is outside of what we have already processed. We will then compute $z[i]$ with the trivial algorithm(that is, just comparing values one by one). Note that in the end, if $z[i] > 0$ we'll have to update the indices of the rightmost segment, because it's guaranteed that the new $r = i+z[i]-1$ is better than the previous $r$.\n",
    "\n",
    "2. $i\\leq r$ - the current position is inside the current segment match $[l, r]$. Then we can use the already calculated Z-values to \"initialize\" the value of $z[i]$ to something(it sure is better than \"starting from zero\"), maybe even some big number. For this, we observe that the substrings $s[l..r]$ and $s[0...r-l]$ match. This means that as an initial approximation for $z[i]$ we can take the value already computed for the corresponding segement $s[0....r-l]$, and that is $z[i-l]$.\n",
    "\n",
    "However that value $z[i-l]$ could be too large: when applied to position $i$ it could exceed the index $r$. This is not allowed because we know nothing about characters to the right of $r$: they may differ from those required.\n",
    "\n",
    "Thus as an initial approximation for $z[i]$ we can safely take:\n",
    "\n",
    "$z_{0}[i] = min(r-i+1, z[i-l])$"
   ]
  },
  {
   "cell_type": "markdown",
   "metadata": {},
   "source": [
    "Thus, the whole algorithm is split in two cases, which differ only in the initial value of $z[i]$:\n",
    "\n",
    "In the first case it is assumed to be zero and in the second it is determined by previously computed values. After that both branches of this algorithm can be reduced to the implementation of the trivial algorithm, which starts immediately after we specify the initial value."
   ]
  }
 ],
 "metadata": {
  "language_info": {
   "name": "python"
  },
  "orig_nbformat": 4
 },
 "nbformat": 4,
 "nbformat_minor": 2
}
