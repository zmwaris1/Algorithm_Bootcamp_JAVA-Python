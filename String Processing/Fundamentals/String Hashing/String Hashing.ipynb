{
 "cells": [
  {
   "cell_type": "markdown",
   "metadata": {},
   "source": [
    "### String Hashing"
   ]
  },
  {
   "cell_type": "markdown",
   "metadata": {},
   "source": [
    "When we want to compare strings, the brute force way of doing it is just to compare the letters of both strings which has a time complexity of $O(min(n_{1}, n_{2}))$.\n",
    "\n",
    "To do it using better methods we use string hashing. The idea behind this is that we convert each string into an integer and compare those integers. It then becomes an $O(1)$ operation."
   ]
  },
  {
   "cell_type": "markdown",
   "metadata": {},
   "source": [
    "For converting the string into an integer we need a hash function. This convert a string into an integer value which is known as hash of the string. If two strings are equal then their hashes have to be equal. But it should not hold the same statement in opposite direction. "
   ]
  },
  {
   "cell_type": "markdown",
   "metadata": {},
   "source": [
    "So usually we want the hash function to map strings onto numbers of a fixed range $[0, m)$, then comparing two strings is just a comparision of two integers with fixed length. And of course we want $hash(s) \\neq hash(t)$ to be very likely if $s \\neq t$."
   ]
  },
  {
   "cell_type": "markdown",
   "metadata": {},
   "source": [
    "The important part you have to keep in mind that even if the probability of two different string having same hash is low but it can never be ignored. Using hashing is not $100%$ deterministically correct. However, it is safely ignored as the probability of the hashes of two different strings colliding is very small."
   ]
  },
  {
   "cell_type": "markdown",
   "metadata": {},
   "source": [
    "#### Calculation of the hash of the string"
   ]
  },
  {
   "cell_type": "markdown",
   "metadata": {},
   "source": [
    "The good and widely used method of defining hash of a string $s$ of length $n$ is:\n",
    "\n",
    "$hash(s) = s[0] + s[1] * p + s[2] * p^{2} + .... + s[n-1] * p^{n-1} mod \\space m$\n",
    "\n",
    "where $p$ and $m$ are some chosen positive integers. It is called polynomial rolling hash function."
   ]
  },
  {
   "cell_type": "markdown",
   "metadata": {},
   "source": [
    "It is reasonable to make $p$ a prime number roughly equal to the number of characters in the input alphabet. For example if the input is composed of only lowercase letters of English alphabet, $p=31$ is a good choice. If the input contains both uppercase and lowercase letters, then $p=53$ is a good choice.\n",
    "\n",
    "And $m$ should be a larger number, since the probability if two random strings colliding is about $\\frac{1}{m}$. A good choice for $m$ is some larger prime number like $10^{9} + 9$."
   ]
  },
  {
   "cell_type": "markdown",
   "metadata": {},
   "source": [
    "#### Improve no collision probability\n",
    "\n",
    "Quite often the above mentioned polynomial hash function is good enough, as the probability of a collision happening is low which is $\\frac{1}{m}$ or $10^{-9}$.\n",
    "\n",
    "But notice that when we compare a large number of strings say $10^{6}$ strings at a time then the probability of collision happening is reduced to $10^{-3}$ then the probability of a collision happening is already 1.\n",
    "\n",
    "So tackle this problem there is an easy fix where we can just compute two different hashes for each string(by using two different $p$ and $m$) and then compare these pairs. Now if is about $10^{9}$ for each hash function, then the probability of a collision happening is combined to be $10^{18}$ which is better even when we use a greater number of strings."
   ]
  }
 ],
 "metadata": {
  "language_info": {
   "name": "python"
  },
  "orig_nbformat": 4
 },
 "nbformat": 4,
 "nbformat_minor": 2
}
