{
 "cells": [
  {
   "cell_type": "markdown",
   "metadata": {},
   "source": [
    "### KMP Algorithm/Prefix Function"
   ]
  },
  {
   "cell_type": "markdown",
   "metadata": {},
   "source": [
    "You are given a string $s$ of length $n$. The prefix function for this string is defined as an array $\\pi$ of length $n$, where $\\pi[i]$ is the length of the longest proper prefix of the substring $s[0...i]$ which is also a suffix of substring. A proper prefix of a string is a prefix that is not equal to the string itself. By definition $\\pi[0] = 0$."
   ]
  },
  {
   "cell_type": "markdown",
   "metadata": {},
   "source": [
    "Mathematically the definition of the prefix function can be written as follows:\n",
    "\n",
    "$\\pi[i] = \\max\\limits_{k=0...i}{k:s[0...k-1] = s[i-(k-1)...i]}$"
   ]
  },
  {
   "cell_type": "markdown",
   "metadata": {},
   "source": []
  }
 ],
 "metadata": {
  "language_info": {
   "name": "python"
  },
  "orig_nbformat": 4
 },
 "nbformat": 4,
 "nbformat_minor": 2
}
