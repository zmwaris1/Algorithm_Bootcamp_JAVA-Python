{
 "cells": [
  {
   "cell_type": "markdown",
   "metadata": {},
   "source": [
    "### What is Sieve of Eratosthenes?\n",
    "\n",
    "It is an algorithm for finding all the prime numbers in a segment $[1:n]$ using $O(nloglogn)$ operations.\n",
    "\n",
    "The algorithm is very simple:\n",
    "\n",
    "We write down all the numbers between $2$ and $n$. We mark all proper multiples of $2$ as composite.\n",
    "\n",
    "We find the next number which has not been marked composite, which in this case will be $3$. It means $3$ is prime and we mark all proper mltiples of $3$ as composite.\n",
    "\n",
    "And we continue this procedure until we processed all the elements in the segment.\n",
    "\n",
    "The idea behind this is that if a number is prime if none of the smaller prime numbers divide it. Since we iterate over the prime numbers in order, we already marked all numbers who are divisible by at least one of the prime numbers as divisible. Hence if we reach a cell and it is not marked then it has to be a prime."
   ]
  },
  {
   "cell_type": "markdown",
   "metadata": {},
   "source": [
    "### Different Optimizations of Sieve of Eratosthenes\n",
    "\n",
    "#### Sieving till root\n",
    "\n",
    "To find all the prime numbers till $n$, it will be enough just to perform the sifting only by the prime numbers upto square root of $n$.\n",
    "\n",
    "Such optimization does not effect the complexity but the number of operations will reduce noticeably.\n",
    "\n",
    "#### Sieving by odd numbers only\n",
    "\n",
    "Since all even numbers except $2$ are composite, we can eliminate checking even numbers and operate will odd numbers only.\n",
    "\n",
    "This would allow us to half the needed memory and it will reduce the number of operations approximately by half."
   ]
  },
  {
   "cell_type": "markdown",
   "metadata": {},
   "source": [
    "### Sieve of Eratosthenes Having Linear Time Complexity\n",
    "\n",
    "In this algorithm our goal is to find the minimum prime factor $lp[i]$ for every number $i$ in the segment $[2:n]$ for every number $i$ in the segment $[2:n]$. And we need to store the list of all found prime numbers in a list $pr[]$.\n",
    "\n",
    "We initialize the values $lp[i]$ with zeros, which means we assume all numbers are prime. During the algorithm execution this array will be filled gradually.\n",
    "\n",
    "Now we will go through the numbers from $2$ to $n$. We have two cases for the current number $i$:\n",
    "\n",
    "1. $lp[i] = 0$, that means that $i$ is prime, i.e. we have not found any smaller factors for it. Hence we assign $lp[i] = i$ and add $i$ to the end of the list $pr[]$.\n",
    "\n",
    "2. $lp[i] \\neq 0$, that means that $i$ is composite and it's minimum prime factor is $lp[i]$."
   ]
  },
  {
   "cell_type": "markdown",
   "metadata": {},
   "source": [
    "In both cases we update values of $lp[]$ for the numbers that are divisible by $i$. However, our goal is to learn to do so as to set the value $lp[]$ at most once for every number. We can do it as follows:\n",
    "\n",
    "Let's consider numbers $x_{j} = i * p_{j}$, where $p_{j}$ are all prime numebers less than or equal to $lp[i]$.\n",
    "\n",
    "We'll set a new value $lp[x_{j}] = p_{j}$ for all numbers of this form."
   ]
  },
  {
   "cell_type": "markdown",
   "metadata": {},
   "source": [
    "### Runtime\n",
    "\n",
    "The runtime of classic algorithm is $O(nloglogn)$ and that of with Linear Time complexity is $O(n)$. The difference is very small.\n",
    "\n",
    "You can find the implementation of the algorithm is respective <b>Java</b> and <b>Python</b> files."
   ]
  }
 ],
 "metadata": {
  "language_info": {
   "name": "python"
  },
  "orig_nbformat": 4
 },
 "nbformat": 4,
 "nbformat_minor": 2
}
