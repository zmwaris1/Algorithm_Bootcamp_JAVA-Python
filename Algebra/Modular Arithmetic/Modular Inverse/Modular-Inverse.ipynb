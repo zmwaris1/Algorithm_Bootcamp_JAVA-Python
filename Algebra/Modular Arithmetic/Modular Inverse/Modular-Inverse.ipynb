{
 "cells": [
  {
   "cell_type": "markdown",
   "metadata": {},
   "source": [
    "### Modular Mutiplicative Inverse"
   ]
  },
  {
   "cell_type": "markdown",
   "metadata": {},
   "source": [
    "A modular multiplicative inverse of an integer $a$ is an integer $x$ such that $a * x$ is congruent to $1$ modular some modulus $m$, such that\n",
    "\n",
    "$ a * x \\cong$ mod $m$.\n",
    "\n",
    "We should note that modular inverse does not always exist. In this article we present two methods for finding the modular inverse in case it exists and one method for finding the modular inverse for all numbers in linear time."
   ]
  },
  {
   "cell_type": "markdown",
   "metadata": {},
   "source": [
    "#### Finding the Modular Inverse using Extended Euclidean Algorithm"
   ]
  },
  {
   "cell_type": "markdown",
   "metadata": {},
   "source": [
    "Consider the equation with unknown $x$ and $y$:\n",
    "\n",
    "$a * x + m * y = 1$\n",
    "\n",
    "When $gcd(a, m) = 1$, the equation has a solution which can be found using the Extended Eucliedean algorithm.\n",
    "\n",
    "Now if we take modulo $m$ of both sides, we can get rid of $m*y$ and the equation is:\n",
    "\n",
    "$ a * x \\cong 1$ mod $m$.\n",
    "\n",
    "Thus the modular inverse of $a$ is $x$."
   ]
  },
  {
   "cell_type": "markdown",
   "metadata": {},
   "source": [
    "#### Finding the Modular Inverse using Binary Exponentiation"
   ]
  },
  {
   "cell_type": "markdown",
   "metadata": {},
   "source": [
    "Another method for finding modulo inverse is to use Euler's theorem, which states that the following congruence is true if $a$ and $m$ are relatively prime.\n",
    "\n",
    "$a^{\\phi(m)} \\cong 1$ mod $m$\n",
    "\n",
    "$\\phi$ is Euler's Totient function. Again note that $a$ and $m$ being relative prime was also the condition for the modular inverse to exist.\n",
    "\n",
    "If $m$ is a prime number the equation becomes:\n",
    "$a^{m-1} \\cong 1$ mod $m$\n",
    "\n",
    "Multiply both sides of the above equations by $a^{-1}$ and we get:\n",
    "\n",
    "For an arbitrary modulus $m$:\n",
    "\n",
    "$a^{\\phi(m)-1} \\cong a^{-1}$ mod $m$\n",
    "\n",
    "For a prime modulus $m$:\n",
    "\n",
    "$a^{m-2} \\cong a^{-1}$ mod $m$"
   ]
  },
  {
   "cell_type": "markdown",
   "metadata": {},
   "source": [
    "#### Finding the Modular Inverse for every number modulo $m$"
   ]
  },
  {
   "cell_type": "markdown",
   "metadata": {},
   "source": [
    "The problem states that we have to find the modular inverse of every number in the range $[1, m-1]$."
   ]
  },
  {
   "cell_type": "markdown",
   "metadata": {},
   "source": [
    "We use $inv[i]$ to denote the modular inverse of $i$. Then, for $i > 1$ the following equation is valid:\n",
    "\n",
    "$inv[i] = -\\lfloor\\frac{m}{i}\\rfloor.inv[m$ mod $i]$"
   ]
  },
  {
   "cell_type": "markdown",
   "metadata": {},
   "source": []
  }
 ],
 "metadata": {
  "language_info": {
   "name": "python"
  },
  "orig_nbformat": 4
 },
 "nbformat": 4,
 "nbformat_minor": 2
}
