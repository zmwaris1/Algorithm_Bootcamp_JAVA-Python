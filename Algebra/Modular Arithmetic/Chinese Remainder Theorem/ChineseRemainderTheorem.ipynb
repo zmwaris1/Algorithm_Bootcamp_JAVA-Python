{
 "cells": [
  {
   "cell_type": "markdown",
   "metadata": {},
   "source": [
    "### Chinese Remainder Theorem"
   ]
  },
  {
   "cell_type": "markdown",
   "metadata": {},
   "source": [
    "#### Formulation\n",
    "\n",
    "Let $p = p_{1}p_{2}...p_{k}$ where $p_{i}$ are pairwise relatively prime. In addition to $p_{i}$, we are also given a set of congruence relations:\n",
    "\n",
    "$a = a_{1}$ $(mod\\space p_{1})$\n",
    "\n",
    "$a = a_{2}$ $(mod\\space p_{2})$\n",
    "\n",
    "$\\space \\space \\space \\space\\space\\space ... $\n",
    "\n",
    "$a = a_{k}$ $(mod\\space p_{k})$"
   ]
  },
  {
   "cell_type": "markdown",
   "metadata": {},
   "source": [
    "While $a_{i}$ are some given costraints. The original form of CRT states that the given set of congruence equations always has one and exactly one solution modulo $p$."
   ]
  },
  {
   "cell_type": "markdown",
   "metadata": {},
   "source": [
    "#### Garner's Algorithm"
   ]
  },
  {
   "cell_type": "markdown",
   "metadata": {},
   "source": [
    "Another consequence of CRT is that we can represent big numbers using an array of small integers. For example, let $p$ be the product of the first 1000 primes. From calculations we can see that $p$ has around 3000 digits"
   ]
  },
  {
   "cell_type": "markdown",
   "metadata": {},
   "source": [
    "Any number $a$ less than $p$ can be represented as an array $a_{1}, ...., a_{k}$ where $a_{i} \\cong a (mod \\space p_{i})$. But to do this we obviously need to know how to get back the number $a$ from its representation. \n",
    "\n",
    "In this section we discuss Garner's algorithm. We seek a representation on the form:\n",
    "\n",
    "$a = x_{1} + x_{2}p_{1} + x_{3}p_{1}p_{2}+...+x_{k}p_{1}...p_{k-1}$\n",
    "\n",
    "which is called mix radix representation of $a$. Garner's algorithm computes the coefficients $x_{1},....,x_{k}$."
   ]
  },
  {
   "cell_type": "markdown",
   "metadata": {},
   "source": [
    "Let $r_{ij}$ denote the inverse of $p_{i}$ modulo $p_{j}$.\n",
    "\n",
    "$r_{ij} = (p_{i})^{-1} (mod\\space p_{j})$"
   ]
  },
  {
   "cell_type": "markdown",
   "metadata": {},
   "source": [
    "Substituting $a$ from the mixed radix representation into the first congruence equation we obtain:\n",
    "\n",
    "$a_{1} \\cong x_{1} (mod \\space p_{1})$.\n",
    "\n",
    "Substituting into the second equation yields\n",
    "\n",
    "$a_{2} \\cong x_{1} + x_{2}p_{1} (mod \\space p_{2})$.\n",
    "\n",
    "which can be rewritten as:\n",
    "\n",
    "$a_{2} - x_{1} \\cong x_{2}p_{1} (mod \\space p_{2})$\n",
    "\n",
    "$(a_{2} - x_{1})r_{12} \\cong x_{2} (mod \\space p_{2})$\n",
    "\n",
    "$x_{2} \\cong (a_{2} - x_{1})r_{12} (mod \\space p_{2})$\n",
    "\n",
    "Similarly we get,\n",
    "\n",
    "$x_{3} \\cong ((a_{3} - x_{1})r_{13}-x_{2})r_{23} (mod \\space p_{2})$"
   ]
  },
  {
   "cell_type": "markdown",
   "metadata": {},
   "source": [
    "The number a can now be calculated using the formula:\n",
    "\n",
    "$a = x_{1} + x_{2}p_{1} + x_{3}p_{1}p_{2}+...+x_{k}p_{1}...p_{k-1}$"
   ]
  },
  {
   "cell_type": "markdown",
   "metadata": {},
   "source": [
    "You can find the implementation of the algorithm is respective <b>Java</b> and <b>Python</b> files."
   ]
  }
 ],
 "metadata": {
  "language_info": {
   "name": "python"
  },
  "orig_nbformat": 4
 },
 "nbformat": 4,
 "nbformat_minor": 2
}
