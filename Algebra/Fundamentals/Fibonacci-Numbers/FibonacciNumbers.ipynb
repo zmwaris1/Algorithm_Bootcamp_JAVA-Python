{
 "cells": [
  {
   "cell_type": "markdown",
   "metadata": {},
   "source": [
    "### Fibonacci Numbers\n",
    "\n",
    "The Fibonacci number or sequence is defined as follows:\n",
    "\n",
    "$F_{0} = 0$, $F_{1} = 1$, ....., $F_{n} = F_{n-1} + F_{n-2}$\n",
    "\n",
    "The numbers of a Fibonacci Sequence is given as:\n",
    "\n",
    "$0, 1, 1, 2, 3, 5, 8, 13, 21, 34, 55, ...$"
   ]
  },
  {
   "cell_type": "markdown",
   "metadata": {},
   "source": [
    "### Properties of Fibonacci Sequence\n",
    "\n",
    "Fibonacci numbers have a lot if interesting properties. Some of them are:\n",
    "\n",
    "1. Cassini's Identity:\n",
    "\n",
    "$F_{n-1}*F_{n+1} - F_{n}^{2} = (-1)^{2}$\n",
    "\n",
    "2. \"Addition\" Rule:\n",
    "\n",
    "$F_{n+k} = F_{k}*F_{n+1} + F_{k-1}*F_{n}$\n",
    "\n",
    "3. Applying \"Addition\" rule when $k = n$\n",
    "\n",
    "$F_{2n} = F_{n}*(F_{n+1} + F_{n-1})$\n",
    "\n",
    "From this we can prove that by induction that for any positive integer $k$, $F_{nk}$ is multiple of $F_{n}$.\n",
    "\n",
    "If $F_{m}$ is multiple of $F_{n}$, then $m$ is a multiple of $n$.\n",
    "\n",
    "4. GCD Identity:\n",
    "\n",
    "$GCD(F_{m}, F_{n}) = F_{GCD(m.n)}$"
   ]
  },
  {
   "cell_type": "markdown",
   "metadata": {},
   "source": [
    "### Fibonacci Coding\n",
    "\n",
    "According to Zeckendoff's theorem, any natural number can be represented as a sum of Fibonacci Numbers i.e:\n",
    "\n",
    "$       N = F_{k1} + F_{k2} + ... + F_{kr} $\n",
    "\n",
    "such that, $ k_{1} >= k_{2} + 2, k_{2} >= k_{3} + 2, ... , k_{r} >= 2$ (i.e  the representation cannot use two consecutive Fibonacci numbers).\n",
    "\n",
    "This encoding of an integer $n$ can be done using Greedy Algorithm:\n",
    "1. Iterate throught the Fibonacci numbers from the largest to the smallest until you find one less than or equal to $n$.\n",
    "2. Suppose this number was $F_{i}$. Subtract $F_{i}$ from $n$ and put a $1$ in the $(i-2)$ position of the code.\n",
    "3. Repeat until there is no remainder.\n",
    "4. Add a final $1$ to the codeword to indicate the end.\n",
    "\n",
    "To decode a code word, first remove the final $1$. Then if the $i$-th bit is set, sum $F_{i+2}$ to the number."
   ]
  },
  {
   "cell_type": "markdown",
   "metadata": {},
   "source": [
    "### Formulas for the $n^{th}$ Fibonacci number\n",
    "\n",
    "The $n^{th}$ Fibonacci number can be easily found in $O(n)$ by computing numbers one-by-one up to $n$. However, there are also faster ways, which we will see:\n",
    "\n",
    "#### 1. Closed-form expression\n",
    "\n",
    "There is a formula known as \"Binet's Formula\", which can be used to calculate a Fibonacci number:\n",
    "\n",
    "## $ F_{n} = \\frac{(\\frac{1+\\sqrt{5}}{2})^{n} - \\frac{(1-\\sqrt{5})}{2}^{n}}{\\sqrt{5}}$\n",
    "\n",
    "It is observed that the second term's value is always less than 1, and it also decreases very rapidly. Hence by deducing the second term we are left with the equation as:\n",
    "\n",
    "## $ F_{n} = [\\frac{(\\frac{1+\\sqrt{5}}{2})^{n}}{\\sqrt{5}}$]\n",
    "\n",
    "where the square brackets indicate rounding to the nearest integer. But since these formulas require very high accuracy when working with Frational numbers so they used less in practical calculations.\n",
    "\n",
    "#### 2. Matrix Form\n",
    "\n",
    "It is easy to prove the relation:\n",
    "\n",
    "$ (F_{n-1} \\; F_{n}) = (F_{n-2} \\; F_{n-1}) * \\begin{pmatrix} 0 & 1 \\\\\n",
    "                                         1 & 1\\\\ \n",
    "                                         \\end{pmatrix} $\n",
    "\n",
    "Denoting  $P = \\begin{pmatrix} 0 & 1 \\\\\n",
    "                                         1 & 1\\\\ \n",
    "                                         \\end{pmatrix} $, we have:\n",
    "\n",
    "$ (F_{n} \\; F_{n+1}) = (F_{0} \\; F_{1}) * P^{n} $\n",
    "\n",
    "Thus in order to find $F_{n}$, we must raise the matrix $P$ to $n$. This can be done on $(Ologn)$.\n",
    "\n",
    "#### 3. Fast Doubling method.\n",
    "\n",
    "This method is defined as:\n",
    "\n",
    "$F_{2k} = F_{k}(2F_{k+1} - F_{k}).$\n",
    "\n",
    "$F_{2k+1} = F_{k+1}^{2} + F_{k}^{2}$"
   ]
  },
  {
   "cell_type": "markdown",
   "metadata": {},
   "source": [
    "For implementation, please refer to the <b>Python</b> and <b>Java</b> files."
   ]
  }
 ],
 "metadata": {
  "language_info": {
   "name": "python"
  },
  "orig_nbformat": 4
 },
 "nbformat": 4,
 "nbformat_minor": 2
}
