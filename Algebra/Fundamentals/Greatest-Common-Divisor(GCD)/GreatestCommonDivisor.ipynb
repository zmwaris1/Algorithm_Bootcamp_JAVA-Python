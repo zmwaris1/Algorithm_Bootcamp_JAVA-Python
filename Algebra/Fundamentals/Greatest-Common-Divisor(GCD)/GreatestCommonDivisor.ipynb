{
 "cells": [
  {
   "cell_type": "markdown",
   "metadata": {},
   "source": [
    "### Greatest Common Divisor"
   ]
  },
  {
   "cell_type": "markdown",
   "metadata": {},
   "source": [
    "What is GCD? Given two non-negative integers a and b the largest number which is a divisor of both $a$ and $b$ is known as GCD of $a$ and $b$. It is commonly denoted as $gcd(a, b)$. When one of the number is zero, the GCD by definition is the second number. When both the numbers are zero, their GCD is undefined, but can be said to be zero. "
   ]
  },
  {
   "cell_type": "markdown",
   "metadata": {},
   "source": [
    "We use Euclidean algorithm to find the greatest common divisor of two numbers $a$ and $b$ in $O(log min(a, b))$."
   ]
  },
  {
   "cell_type": "markdown",
   "metadata": {},
   "source": [
    "### Algorithm"
   ]
  },
  {
   "cell_type": "markdown",
   "metadata": {},
   "source": [
    "The Algorithm is quite simple, we define it as:\n",
    "\n",
    "$gcd(a, b) = a,                  if b = 0$\n",
    "\n",
    "$gcd(a, b) = gcd(b, a mod b),    otherwise$"
   ]
  },
  {
   "cell_type": "markdown",
   "metadata": {},
   "source": [
    "### Binary GCD\n",
    "\n",
    "It is an optimized technique compared to normal Euclidean Algorithm. In this algorithm the slowest part of the normal Euclidean Algorithm i.e modulo operation is avoided.\n",
    "\n",
    "Note: Despite the modulo time complexity is $O(1)$ it is a lot slower than operations like addition, subtraction or bitwise operations. So, it is better o avoid these when possible.\n",
    "\n",
    "This Binary GCD is based on a few properties:\n",
    "1. If both the numbers are even then we can factor out a two from both numbers and compute the GCD of the remaining numbers i.e. $gcd(2a, 2b) = 2gcd(a, b)$\n",
    "\n",
    "2. If one of the numbers is even and the other is odd then we can remove the factor 2 from the even one i.e. $gcd(2a, b) = gcd(a, b)$ if b is odd.\n",
    "\n",
    "3. If both numbers are odd, then subtracting one number of the other will not change the GCD i.e. $gcd(a, b) = gcd(b, a-b)$."
   ]
  },
  {
   "cell_type": "markdown",
   "metadata": {},
   "source": [
    "To find the implementation please refer to the respective <b>Python</b> and <b>JAVA</b> files."
   ]
  }
 ],
 "metadata": {
  "language_info": {
   "name": "python"
  },
  "orig_nbformat": 4
 },
 "nbformat": 4,
 "nbformat_minor": 2
}
