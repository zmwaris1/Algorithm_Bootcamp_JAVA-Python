{
 "cells": [
  {
   "cell_type": "markdown",
   "metadata": {},
   "source": [
    "### What is Binary Exponentiation?"
   ]
  },
  {
   "cell_type": "markdown",
   "metadata": {},
   "source": [
    "Binary Exponentiation also known as Exponentiation by Squaring is a trick which allows to calculate $a^{n}$ in $O(logn)$ instead of $O(n)$ multiplications."
   ]
  },
  {
   "cell_type": "markdown",
   "metadata": {},
   "source": [
    "It has many important applications unrelated to arithmetic, as it can be used with any operations that have the property of associativity i.e $(X * Y) * Z = X * (Y * Z)$. It also applies to multiplication of matrices, modular multiplication and other problems as well."
   ]
  },
  {
   "cell_type": "markdown",
   "metadata": {},
   "source": [
    "### Algorithm"
   ]
  },
  {
   "cell_type": "markdown",
   "metadata": {},
   "source": [
    "The idea of BE* is, we split the exponent using the binary representation. We write the power $n$ in base $2$. \n",
    "\n",
    "\n",
    "For example:\n",
    "$3^{13} = 3^{{1101}_{2}} = 3^{8}*3^{4}*3^{1}$"
   ]
  },
  {
   "cell_type": "markdown",
   "metadata": {},
   "source": [
    "Since the number of $n$ has exactly $log_{2}{n} + 1$ digits in base $2$, we only need to perform $O(logn)$ multiplications, if we know the powers."
   ]
  },
  {
   "cell_type": "markdown",
   "metadata": {},
   "source": [
    "Since the element in the sequence of consecutive power is just the sqaure of previous element, so it is easy to compute. \n",
    "\n",
    "\n",
    "From previous example we can say that:\n",
    "\n",
    "\n",
    "$3^{1} = 3$\n",
    "\n",
    "\n",
    "$3^{2} = 3^{{1}^{2}} = 9$\n",
    "\n",
    "\n",
    "$3^{4} = 3^{{2}^{2}} = 9^{2} = 81$\n",
    "\n",
    "\n",
    "$3^{8} = 3^{{4}^{2}} = 81^{2} = 6561$\n",
    "\n"
   ]
  },
  {
   "cell_type": "markdown",
   "metadata": {},
   "source": [
    "Therefore to get to the answer of $3^{13}$, we need to multiply these three numbers i.e $6561*81*3$.\n",
    "\n",
    "So the final answer we get would be:\n",
    "\n",
    "$3^{13} = 6561*81*3 = 1594323$\n",
    "\n",
    "The final complexity of this algorithm is found to be $O(log{n})$ "
   ]
  },
  {
   "cell_type": "markdown",
   "metadata": {},
   "source": [
    "To find the implementation of this algorithm in JAVA and Python please refer the files: <p color='red'>BinaryExponentiation.py and BinaryExponentiation.java</p>"
   ]
  },
  {
   "cell_type": "markdown",
   "metadata": {},
   "source": []
  }
 ],
 "metadata": {
  "language_info": {
   "name": "python"
  },
  "orig_nbformat": 4
 },
 "nbformat": 4,
 "nbformat_minor": 2
}
