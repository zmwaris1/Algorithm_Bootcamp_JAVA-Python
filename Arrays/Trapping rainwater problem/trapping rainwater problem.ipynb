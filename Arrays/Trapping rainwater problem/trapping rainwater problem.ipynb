{
 "cells": [
  {
   "cell_type": "markdown",
   "metadata": {},
   "source": [
    "### Trapping Rainwater Problem"
   ]
  },
  {
   "cell_type": "markdown",
   "metadata": {},
   "source": [
    "Given $n$ number of vertical bars each of width $1$. All of these $n$ vertical bars are arranged on $x$-axis. These bars are in 2D-space so they can trap rain water.\n",
    "The problem is to find the amount of rain water that will be trapped between these bars."
   ]
  },
  {
   "cell_type": "markdown",
   "metadata": {},
   "source": [
    "We can notice that water will only be trapped between $2$ tall bars. So, water will be filled between a bar and it's next greater bar. Thus we need to find the NGE of every bar from both left and right. The tallest bar will not have an NGE on either sides."
   ]
  },
  {
   "cell_type": "markdown",
   "metadata": {},
   "source": [
    "#### Algorithm"
   ]
  },
  {
   "cell_type": "markdown",
   "metadata": {},
   "source": [
    "Calculate the $left[]$ and $right[]$ arrays for the input array $a[]$. Traverse from index $0$ until we reach the tallest bar and at every index $i$:\n",
    "1. get the NG Height on right, left,\n",
    "2. now, between bar $i$ and $j$ the water trapped will be at height $a[i]$.\n",
    "3. Calculate the volume of water between the $2$ bars.\n",
    "4. Repeat the process untill both the left and right points to the same bar."
   ]
  }
 ],
 "metadata": {
  "language_info": {
   "name": "python"
  },
  "orig_nbformat": 4
 },
 "nbformat": 4,
 "nbformat_minor": 2
}
