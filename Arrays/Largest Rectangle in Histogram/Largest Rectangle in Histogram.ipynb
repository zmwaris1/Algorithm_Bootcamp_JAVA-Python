{
 "cells": [
  {
   "cell_type": "markdown",
   "metadata": {},
   "source": [
    "### Largest Rectangle in Histogram"
   ]
  },
  {
   "cell_type": "markdown",
   "metadata": {},
   "source": [
    "Given $n$ number of vertical bars each of width $1$. All of these $n$ vertical bars are arranged on $x$-axis horizontally. These bars are in 2D-space and we need to find the largest rectangle in this histogram. Height of these bar is stored in an array."
   ]
  },
  {
   "cell_type": "markdown",
   "metadata": {},
   "source": [
    "For any rectangle in a histogram height will be equal to height of smallest bar in the region of rectangle."
   ]
  },
  {
   "cell_type": "markdown",
   "metadata": {},
   "source": [
    "#### Naive approach $O(n^{2})$"
   ]
  },
  {
   "cell_type": "markdown",
   "metadata": {},
   "source": [
    "For every $i$-th bar on the histogram:\n",
    "\n",
    "1. Go left to find first bar on left that has height less than $h[i]$. Let that bar be at index $L$ so $h[L] < h[i]$. Go right to find the first bar on the right that has height less than $h[i]$. Let that bar be at index $r$ such that $h[r] < h[i]$.\n",
    "2. Now number of bars between $i$-th and $L$-th bar will be $(i-L)$ and between $i$-th and $r$-th bar will be $(r-i)$. Hence the width of rectangle is $(i-L) + (r-i) -1$.\n",
    "3. Area of rectangle of height $h[i]$ is : \n",
    "\n",
    "$A[i] = h[i] * ((i-L) + (r-i)-1)$\n",
    "\n",
    "Hence largest ractangle will have area $max[A[i]]$ where $0<=i<n$.\n",
    "\n",
    "The solution is of $O(n^{2})$ time complexity."
   ]
  },
  {
   "cell_type": "markdown",
   "metadata": {},
   "source": [
    "#### Efficient Approach"
   ]
  },
  {
   "cell_type": "markdown",
   "metadata": {},
   "source": [
    "From article NGE we know we can find NGE of all elements in $O(n)$ and store it. But here we need to find next smaller heights which is similar to that. Here for every element in height array we want the first left smaller index and first right smaller index. After performing method similar to NGE we are left with arrays $left[]$ and $right[]$ with indexes of next smaller heights. Now we don't need to search for them while calculating the area of rectangles."
   ]
  }
 ],
 "metadata": {
  "language_info": {
   "name": "python"
  },
  "orig_nbformat": 4
 },
 "nbformat": 4,
 "nbformat_minor": 2
}
