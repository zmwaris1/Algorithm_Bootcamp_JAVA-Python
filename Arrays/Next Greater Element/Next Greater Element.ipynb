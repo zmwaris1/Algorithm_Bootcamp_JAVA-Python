{
 "cells": [
  {
   "cell_type": "markdown",
   "metadata": {},
   "source": [
    "### Next Greater Element"
   ]
  },
  {
   "cell_type": "markdown",
   "metadata": {},
   "source": [
    "For every element in an array $A$ we have to find it's next large element on it's right(or left). Once we find the next greater element we will store it in another array."
   ]
  },
  {
   "cell_type": "markdown",
   "metadata": {},
   "source": [
    "The approach is very simple; for every element at posiition $i$ go to the right or left and search for first larger element and store it in $right[i]$ or $left[i]$."
   ]
  },
  {
   "cell_type": "markdown",
   "metadata": {},
   "source": [
    "This approach take $O(n^{2})$ time complexity."
   ]
  },
  {
   "cell_type": "markdown",
   "metadata": {},
   "source": [
    "#### Efficient Implementation $O(n)$"
   ]
  },
  {
   "cell_type": "markdown",
   "metadata": {},
   "source": [
    "We will use 'stack' to improve the time complexity from $O(n^{2})$ to $O(n)$. The stack will store indices of elements who don't have an NGE while iterating from left to right. You will notice that the elements who don't have an NGE are in descending order. The reason is that if there are $2$ elements $a_{i}$ and $a{j}$ who don't have an NGE on right and $i<j$ then $a[i]>a[j]$.\n",
    "\n",
    "All the indices who don't have an NGE are stored in the stack.\n",
    "\n",
    "We notice that every element is pushed in the stack exactly once and popped once it gets an NGE.\n",
    "\n",
    "So this approach gives the time complexity of $O(n)$ and space complexity of $O(n)$."
   ]
  }
 ],
 "metadata": {
  "language_info": {
   "name": "python"
  },
  "orig_nbformat": 4
 },
 "nbformat": 4,
 "nbformat_minor": 2
}
