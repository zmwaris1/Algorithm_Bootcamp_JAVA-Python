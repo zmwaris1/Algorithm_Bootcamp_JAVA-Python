{
 "cells": [
  {
   "cell_type": "markdown",
   "metadata": {},
   "source": [
    "### Sliding Window"
   ]
  },
  {
   "cell_type": "markdown",
   "metadata": {},
   "source": [
    "Window is a subarray, substring or any continuous segment. Sliding window is a method to do calculations on a window. It can optimize certain problemsto roughly linear time complexity i.e $O(n)$ or maybe $O(logn)$. \n",
    "\n",
    "It can only be applied when:\n",
    "1. We are given an array or string.\n",
    "2. We need to find some largest value or maximise something in a subarray or substring."
   ]
  },
  {
   "cell_type": "markdown",
   "metadata": {},
   "source": [
    "There are two types of sliding window:\n",
    "1. Fixed Sized\n",
    "2. Variable Sized"
   ]
  },
  {
   "cell_type": "markdown",
   "metadata": {},
   "source": [
    "#### 1. Fixed Sized sliding window"
   ]
  },
  {
   "cell_type": "markdown",
   "metadata": {},
   "source": [
    "Fixed sized sliding windows are subarrays of fixed lengths, used to compute certain values while parsing on a given array.\n",
    "\n",
    "The problem statement states:\n",
    "1. There is a integer array $a[]$ and a value $k$.\n",
    "2. We have to find maximum sum among all subarrays of size $k$."
   ]
  },
  {
   "cell_type": "markdown",
   "metadata": {},
   "source": [
    "#### Solution $O(n*k)$"
   ]
  },
  {
   "cell_type": "markdown",
   "metadata": {},
   "source": [
    "One very obvious solution is to calculate subarray sum of all subarrays of size $k$ using nested for loops.\n",
    "\n",
    "1. Calculate subarray sum of first subarray i.e, subarray with first element at index $0$.\n",
    "2. Calculate subarray sum of second subarray i.e, subarray with first element at index $1$.\n",
    "3. Keep repeating upto last subarray.\n",
    "4. Finally among all these find the maximum one.\n",
    "\n",
    "#### Efficient solution $O(n)$\n",
    "\n",
    "1. Notice that in previous solution we are calculating subarray sum every tim ewe to next subarray.\n",
    "2. Let's take example of $2$ subarrays:\n",
    "\n",
    "Here,\n",
    "\n",
    "$sum_{i-1} = a_{i-1} + a_{i} + ... + a_{k+i-2}$\n",
    "\n",
    "$sum_{i} = a_{i} + a{i+1} + ... + a_{k+i-1}$\n",
    "\n",
    "Upon comparing we see that most of the elements in both the sum is common i.e, a_{i} + a{i+1} + ... + a_{k+i-2}.\n",
    "\n",
    "So we can rewrite it as:\n",
    "\n",
    "$sum_{i-1} = a_{i-1} + C$\n",
    "\n",
    "$sum_{i} = C + a_{k+i-1}$\n",
    "\n",
    "On subtracting equations:\n",
    "\n",
    "$sum_{i} - sum_{i-1} = a_{k+i-1} - a_{i-1}$\n",
    "\n",
    "Therefore,\n",
    "\n",
    "$sum_{i} = sum_{i-1} + a_{k+i-1} - a_{i-1}$\n",
    "\n",
    "So we can say that current windows sum can be calculated from previous sum.\n",
    "\n",
    "So here we replace a $O(k)$ for loop with $O(1)$, so the final solution is of $O(n)$ complexity."
   ]
  },
  {
   "cell_type": "markdown",
   "metadata": {},
   "source": [
    "#### 2. Variable Sized sliding window"
   ]
  },
  {
   "cell_type": "markdown",
   "metadata": {},
   "source": [
    "The major difference between fixed and variable sliding windows are:\n",
    "1. In fixed, we have fixed window size and we optimize certain values and conditions.\n",
    "2. In variable, we have no constraint on window size but we have fixed condition. Here we have to find most optimal window satisfying the fixed condition.\n",
    "\n",
    "To illustrate variable sized sliding windows we will try to solve a problem in which:\n",
    "1. A positive integer array $a[]$\n",
    "2. An another integer $k$\n",
    "3. We have to find the largest sub-array among all subarrays which has subarray sum $k$"
   ]
  },
  {
   "cell_type": "markdown",
   "metadata": {},
   "source": [
    "#### Solution $O(n^{2})$"
   ]
  },
  {
   "cell_type": "markdown",
   "metadata": {},
   "source": [
    "Go through all possible subarrays and check whether $sum=k$ and pick the largest one.\n",
    "\n",
    "We will assumme a fix size and check whether we have a sub-array of that size with sum $k$.\n",
    "\n",
    "We will do it in decreasing manner. Let's assume the input array $A$ has length $n$ then,\n",
    "\n",
    "1. First check the subarray sum of all sub-arrays of length $n$.\n",
    "2. Then check subarray sum of all sub-arrays of lengths $n-1$\n",
    "3. Then do the same for all subarrays of lengths $n-2$\n",
    "4. Keep repeating till we get an array of subarray $sum=k$\n",
    "\n",
    "TIme complexity = $O(n^{2})$\n",
    "\n",
    "#### Efficient Approach $O(n)$\n",
    "\n",
    "Among all windows of sum $k$, check which is the largest. Notice $a[]$ has only positive integers."
   ]
  },
  {
   "cell_type": "markdown",
   "metadata": {},
   "source": [
    "1. Let us consider an arbtrary array $A$.\n",
    "2. We will do this is left to right fashion. To get next window on right with subarray sum as $k$ expanding contracting the subarray will help us.\n",
    "3. As per above we are subarray $A$ with sum $k$. Then expand this subarray A to right and shrink from left to reach sub-array $B$.\n",
    "4. To achieve this first expand the window $A$ by $1$ cell towards right.\n",
    "5. For any given sub-array with $sum!=k$ then we can make the $sum=k$ by expanding it to right:\n",
    "\n",
    "$\\space \\space \\space \\space$ 1. Expand window from left if subarray $sum<=k$\n",
    "\n",
    "$\\space \\space \\space \\space$ 2. Shrink window from left if it's subarray $sum>k$\n",
    "\n",
    "$\\space \\space \\space \\space$ 3. Keep on doing the above $2$ till we either make $sum=k$ or can't expand anymorez"
   ]
  }
 ],
 "metadata": {
  "language_info": {
   "name": "python"
  },
  "orig_nbformat": 4
 },
 "nbformat": 4,
 "nbformat_minor": 2
}
