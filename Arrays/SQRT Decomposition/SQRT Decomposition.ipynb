{
 "cells": [
  {
   "cell_type": "markdown",
   "metadata": {},
   "source": [
    "### SQRT Decomposition"
   ]
  },
  {
   "cell_type": "markdown",
   "metadata": {},
   "source": [
    "It allows to perform some common operation in $O(\\sqrt{N})$. A SQRT Decomposition is a method in which we divide an array $A$ into another array $B$ where, $len(B) = {\\sqrt{len(A)}}$ and every elemnt of B is equal to the sum of the elements of the block a $A$ whose length is equal to $B$."
   ]
  },
  {
   "cell_type": "markdown",
   "metadata": {},
   "source": [
    "SQRT Decomposition can:\n",
    "1. Perform an Update operation in $O(1)$ or $O(\\sqrt{N})$.\n",
    "2. Range sum operation in $O(\\sqrt{N})$."
   ]
  },
  {
   "cell_type": "markdown",
   "metadata": {},
   "source": [
    "The basic idea of SQRT Decomposition is preprocessing. We divide the array $A$ into blocks of length $\\sqrt{N}$. We also create a new array of length $\\sqrt{N}$. Each element of the array $B$ stores sum of all elements of a corresponding decomposed block of $A$ which can be written as:\n",
    "\n",
    "$b_{i} = \\sum_{j=i*\\sqrt{N}}^{(i+1)*\\sqrt{N}-1}a_{j}$\n",
    "\n",
    "Since each element is of block size $\\sqrt{N}$ for any $i$-th element:\n",
    "\n",
    "Block Index = $|\\frac{i}{\\sqrt{N}}|$\n"
   ]
  }
 ],
 "metadata": {
  "language_info": {
   "name": "python"
  },
  "orig_nbformat": 4
 },
 "nbformat": 4,
 "nbformat_minor": 2
}
