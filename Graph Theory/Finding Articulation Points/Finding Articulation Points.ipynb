{
 "cells": [
  {
   "cell_type": "markdown",
   "metadata": {},
   "source": [
    "### Finding Articulation points"
   ]
  },
  {
   "cell_type": "markdown",
   "metadata": {},
   "source": [
    "In an undirected graph, the articulation point is defined as a vertex which, when removed along with associated edges, makes the graph disconneted(more accurately increases the number of connected components in the graph). The task is to find all articulation points in the graph.\n",
    "\n",
    "The algorithm takes $O(n+m)$ complexity and is based on DFS, where $n$ is the number of vertices and $m$ is the number of edges in the graph."
   ]
  },
  {
   "cell_type": "markdown",
   "metadata": {},
   "source": [
    "#### Algorithm\n",
    "\n",
    "Pick an arbitrary vertex of the graph \"root\" and run DFS.\n",
    "1. Let's say we are in the DFS, looking through the edges starting from vertex $v \\neq root$. If the current edge $(v, to)$ is such that none of the vertics $to$ or it's descendants in the DFS traversal tree has a back-edge to any of ancestors of $v$, then it is an articulation point. Otherwise it's not.\n",
    "2. Let's consider the remaining case of $v=root$. This vertex will be the point of articulation if and only if this vertex has more than one child in the DFS tree."
   ]
  },
  {
   "cell_type": "markdown",
   "metadata": {},
   "source": [
    "Similarly, we have to check this fact for each vertex efficiently. We'll use \"time of entry into node\" computed by DFS."
   ]
  },
  {
   "cell_type": "markdown",
   "metadata": {},
   "source": [
    "So, let $tin[v]$ denote entry time for node $v$. We introduce an array $low[v]$ which will let us check the fact for each vertex $v$. $low[v]$ is the minimum of $tin[v]$, the entry times $tin[p]$ for each node $p$ that is connected to node $v$ via a back-edge $(v, p)$ and the values of $low[to]$ for each vertex $to$ which is a direct descendant of $v$ in the DFS tree."
   ]
  },
  {
   "cell_type": "markdown",
   "metadata": {},
   "source": [
    "\\begin{equation}\n",
    "  X = min\\left \\{\n",
    "  \\begin{aligned}\n",
    "    &tin[v], \\\\\n",
    "    &tin[p], && \\text{for all $p$ for which $(v, p)$ is a back-edge} \\\\\n",
    "    &low[to], && \\text{for all $to$ for which $(v, to)$ is a tree edge}\n",
    "  \\end{aligned} \\right.\n",
    "\\end{equation} "
   ]
  },
  {
   "cell_type": "markdown",
   "metadata": {},
   "source": [
    "Now there is a back edge from vertex $v$ or one of it's descendants to one of it's ancestors if and only if vertex $v$ has a child $to$ for which $low[to] < tin[v]$. If $low[to] = tin[v]$ the back edge comes directly to $v$, otherwise it comes to one of the ancestors of $v$.\n",
    "\n",
    "Thus the vertex $v$ in the DFS tree is an articulation point iff $low[to] \\geq tin[v]$"
   ]
  }
 ],
 "metadata": {
  "language_info": {
   "name": "python"
  },
  "orig_nbformat": 4
 },
 "nbformat": 4,
 "nbformat_minor": 2
}
