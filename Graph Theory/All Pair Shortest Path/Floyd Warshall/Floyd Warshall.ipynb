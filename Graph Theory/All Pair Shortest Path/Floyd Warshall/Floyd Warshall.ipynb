{
 "cells": [
  {
   "cell_type": "markdown",
   "metadata": {},
   "source": [
    "### Floyd-Warshall Algorithm"
   ]
  },
  {
   "cell_type": "markdown",
   "metadata": {},
   "source": [
    "Given an undirected weighted graph $G$ with $n$ vertices. The task at hand is to find the length of the shortest path $d_{ij}$ between each pair of vertices $i$ and $j$.\n",
    "\n",
    "The graph may have negative weight edges, but no negative weight cycles(for then the shortest path is undefined).\n",
    "\n",
    "This algorithm can also be used to detect the presence of negative cycles. The graph has a negative cycle if at the end of the algorithm, the distance from a vertex $v$ to iteself is negative."
   ]
  },
  {
   "cell_type": "markdown",
   "metadata": {},
   "source": [
    "#### Description of the algorithm"
   ]
  },
  {
   "cell_type": "markdown",
   "metadata": {},
   "source": [
    "The key idea of the algorithm is to partition the process of finding the shortest path between any two vertices to several incremental phases.\n",
    "\n",
    "Let the vertices be starting from $1$ to $n$. The matrix of distances is $d[][]$.\n",
    "\n",
    "Before $k$-th phase $(k = 1, ..., n), u[i][j]$ for any vertices $i$ and $j$ stores the length of the shortest path between the vertices $i$ and $j$, which contains only the vertices ${1, 2, ..., k-1}$ as internal vertices in the path.\n",
    "\n",
    "In other words, before $k$-th phase the value of $d[i][j]$ is equal to the length of the shortest path from vertex $i$ to the vertex $j$, if this path is allowed to enter only vertex with numbers smaller than $k$(the beginning and end of the path are not restricted by this property). It is easy to make sure that this property holds for the first phase. For $k=0$, we can fill matrix with $d[i][j] = w[i][j]$ if there exists an edge between $i$ and $j$ with weight $w_{ij}$ and $d[i][j] = \\infty$ if there doesn't exist an edge. In practice $\\infty$ will be some high value. As we shall see later this is a requirement for the algorithm.\n",
    "\n",
    "Suppose now that we are in the $k$-th phase, and we want to compute the matrix $d[][]$ so that it meets the requirements for the $(k+1)$-th phase. We have to fix the distance for some vertices pairs $(i, j)$. There are two fundamentally different cases:\n",
    "\n",
    "1. The shortest way from the vertex $i$ to the vertex $j$ with internal vertices from the set ${1, 2, ..., k}$ coincides with the shortest path with internal vetices from the set ${1, 2, ..., k-1}$. In this case $d[i][j]$ will not change during the transition.\n",
    "\n",
    "2. The shortest path with internal vertices from ${1, 2, ..., k}$ is shorter. This means that the new, shorter path passes through the vertex $k$. This means that we can split the shortest path between $i$ and $j$ into two paths: the path between $i$ and $k$, and the path between $k$ and $j$. It is clear that both the path only use internal vertices of ${1, 2, ..., k-1}$ and are the shortest such paths in that respect. Therefore, we already have compute the lengths of those paths before and we can compute the length of the shortest path between $i$ and $j$ as $d[i][k] + d[k][j]$."
   ]
  },
  {
   "cell_type": "markdown",
   "metadata": {},
   "source": [
    "On combining these two cases we find that we can recalculate the length of all pairs $(i, j)$ in the $k$-th phase in the following way:\n",
    "\n",
    "$d_{new}[i][j] = min(d[i][j], d[i][k]+d[k][j])$\n",
    "\n",
    "Thus all the work that is required in the $k$-th phase is to iterate over all pairs of vertices and recalculate the length of the shortest path between them. As a result, after the $n$-th phase, the value $d[i][j]$ in the distance matrix is the length of the shortest path between $i$ and $j$ or is $\\infty$ if the path between the vertices $i$ and $j$ does not exist.\n",
    "\n",
    "A last remark - we don't need to create a seperate distance matrix $d_{new}[][]$ for temporarily storing the shortest paths of the $k$-th phase i.e, all changes can be made directly in matrix $d[][]$ at any phase. In fact at any $k$-th phase we are at most improving the distance of any path in the distance matrix, hence we cannot worsen the length of the shortest path for any pair of the veertices that are to be processed in the $(k+1)$-th pahse or later."
   ]
  },
  {
   "cell_type": "markdown",
   "metadata": {},
   "source": [
    "#### The case of negative cycles\n",
    "\n",
    "Formally, the Floyd-Warshall algorithm does not apply to graphs containing negative weignt cycle(s). But for all pairs of vertices $i$ and $j$ for which there doesn't exist a path starting at $i$, visiting a negative cycle, and end at $j$, the algorithm will still work correctly.\n",
    "\n",
    "For the pair of vertices for which the answer does not exist(due to the presence of a negative cycle in the path between them), the Floyd algorithm will store any number in the distance matrix. However, it is possible to improve the algorithm, so that it carefully treats such pairs of vertices, and outputs them, for e.g as $-INF$.\n",
    "\n",
    "This can be done in the following way, let's run the algorithm the usual way. Then a shortest path between $i$ and $j$ does not exist, iff, there is a vertex $t$ that is reachable from $i$ and also from $j$ for which $d[t][t] < 0$.\n",
    "\n",
    "In addition, when using the algorithm for graphs with negative cycles, we should keep in mind that situations may arise in which distances can get exponentially fast into the negative. Therefore integer overflow must be handled by limiting the minimal distance by some value(e.g. $-INF$)"
   ]
  }
 ],
 "metadata": {
  "language_info": {
   "name": "python"
  },
  "orig_nbformat": 4
 },
 "nbformat": 4,
 "nbformat_minor": 2
}
