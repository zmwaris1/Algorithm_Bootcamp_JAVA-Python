{
 "cells": [
  {
   "cell_type": "markdown",
   "metadata": {},
   "source": [
    "### LCS - Bianry Lifting"
   ]
  },
  {
   "cell_type": "markdown",
   "metadata": {},
   "source": [
    "Let $G$ be a tree. For every query of the form $(u, v)$ we want to find the LCA of the nodes $u$ and $v$, i.e, we want to find a node $w$ that lies on the path from $u$ to the root node and that lies on the path from $v$ to the root node and if there are multiple nodes we pick the one that is the farthest from the root node. In other words the desired node $w$ is the lowest ancestor of $u$ and $v$. In particular if $u$ is an ancestor of $v$, then $u$ is their LCA.\n",
    "\n",
    "The algorithm will take $O(NlogN)$ for preprocessing and $O(logN) $ for LCA query."
   ]
  },
  {
   "cell_type": "markdown",
   "metadata": {},
   "source": [
    "#### Algorithm"
   ]
  },
  {
   "cell_type": "markdown",
   "metadata": {},
   "source": [
    "For each node we will precompute it's ancestor above him, it's ancestor two nodes above, it's ancestor four nodes above, etc. Let's store them in an array $up[]$ i.e, $up[i][j]$ is the $2^{jth}$ ancestor above the node $i$ with $i = 1, ..., N$ from any node to any ancestor above it in $O(logN)$ time. We use DFS to compute the array.\n",
    "\n",
    "For each node we will also remember the time of the first visit of this node(i.e, the time when DFS first discovers the node),and the time when we left it (i.e, after we visited all children and exit the DFS function). We can use this information to determine in constant time if a node is an ancestor of another node.\n",
    "\n",
    "Suppose now we received a query $(u, v)$. We can immediately check whether one node is the ancestor of the other. In this case this node is already the LCA. If $u$ is not the ancestor of $v$, and $v$ is not the ancestor of $u$, we climb the ancestors of $u$ until we find the highest(i.e, closest to the root node), which is not an ancestor of $v$(i.e, a node $x$ such that $x$ is not an ancestor of $v$ but $up[x][0]$ is). We can find this node $x$ in $O(logN)$ time using the array $up$.\n",
    "\n"
   ]
  }
 ],
 "metadata": {
  "language_info": {
   "name": "python"
  },
  "orig_nbformat": 4
 },
 "nbformat": 4,
 "nbformat_minor": 2
}
