{
 "cells": [
  {
   "cell_type": "markdown",
   "metadata": {},
   "source": [
    "### Lowest Common Ancestor"
   ]
  },
  {
   "cell_type": "markdown",
   "metadata": {},
   "source": [
    "A vertex $v$ that lies on the path from the root to $v1$ and the path from root to $v2$ and the vertex should be the lowest. In other words, the desired vertex $v$ is the most bottom ancestor of $v1$ and $v2$. It is obvious that the LCA lies on the shortest path from $v1$ and $v2$. Also, if $v1$ is the ancestor of $v2$, $v1$ is the LCA"
   ]
  },
  {
   "cell_type": "markdown",
   "metadata": {},
   "source": [
    "#### Algorithm"
   ]
  },
  {
   "cell_type": "markdown",
   "metadata": {},
   "source": [
    "First we need to preprocess the tree. We make a DFS traversal starting at the root and build a list $euler[]$ which stores the order of the vetices that we visit(a vertex is added to the list when we first visit it, and after the return of the DFS traversals to it's children). This is also called an Euler tour of the tree. It is clear that the size of this list will be $O(N)$. We also need to build an array $first[0, ..., N-1]$ which stores for each vertex $i$ it's first occurence in $euler$, that is the first position in $euler$ such that $euler[first[i]] = i$. Also, by using the DFS we can find the height of each node (distance from root to the node) and store it in the array $height[0, ..., N-1]$.\n",
    "\n",
    "Now suppose the query is a pair of vertices $v1$ and $v2$. Consider the vertices that we visit in the Euler tour between the first visit of $v1$ and the first visit of $v2$, We can see that the $LCA(v1, v2)$ is the vertex with the lowest height on this path. We already noticed that the LCA has to be part of the shortest path between $v1$ and $v2$. Clearly it also has to be the vertex with the smallest height. And in the Euler tour we essentially use the shortest path except that we additionally visit all subtrees that we find on the path. But all vertices in these subtrees are lower in the tree than the LCA and therefore have a larger height.So the $LCA(v1, v2)$ can be uniquely determined by finding the vertex with the smallest height in the Euler tour between $first(v1)$ and $first(v2)$."
   ]
  },
  {
   "cell_type": "markdown",
   "metadata": {},
   "source": [
    "Usign Sqrt-Decomposition it is possible to obtain a solution answering each query in $O(\\sqrt{N})$ with preprocessing in $O(N)$ time.\n",
    "\n",
    "Usign Segment Tree it is possible to obtain a solution answering each query in $O(logN)$ with preprocessing in $O(N)$ time."
   ]
  },
  {
   "cell_type": "markdown",
   "metadata": {},
   "source": []
  }
 ],
 "metadata": {
  "language_info": {
   "name": "python"
  },
  "orig_nbformat": 4
 },
 "nbformat": 4,
 "nbformat_minor": 2
}
