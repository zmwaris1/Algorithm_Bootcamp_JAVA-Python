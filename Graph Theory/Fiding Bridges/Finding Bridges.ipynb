{
 "cells": [
  {
   "cell_type": "markdown",
   "metadata": {},
   "source": [
    "### Finding bridges in a graph"
   ]
  },
  {
   "cell_type": "markdown",
   "metadata": {},
   "source": [
    "We are given an undirected graph. A bridge is defined as an edge which, when removed, makes the graph disconnected(more precisely, increase the number of connected components in the graph). The task is to find all bridges in the given graph.\n",
    "\n",
    "Informally, the problem is formulated as follows: given a map of cities connected with roads, find all \"important\" roads, i.e, roads which, when removed, cause disappearance of a path between some pair of cities. The algorithm runs in $O(n+m)$ where $N$ is the number of vertices and $M$ is the number of edges in the graph."
   ]
  },
  {
   "cell_type": "markdown",
   "metadata": {},
   "source": [
    "#### Algorithm\n",
    "\n",
    "Pick an arbitrary vertex of the graph \"root\" and run DFS from it.\n",
    "<ul><li>Let's say we are in the DFS, looking through the edges starting from vertex <i><b>v</b></i>. The current edge <i><b>(v, to)</b></i> is a bridge if and only if none of the verices <i><b>to</b></i> and its descendants in the DFS tree has a back-edge to vertex <i><b>v</b></i> or any of it's ancestors. Indeed this condition means that there is no other way from <i><b>v</b></i> to <i><b>to</b></i> except for edge <i><b>(v, to)</b></i>"
   ]
  },
  {
   "cell_type": "markdown",
   "metadata": {},
   "source": [
    "Now we have to learn to check this fat for each vertex effifciently. We'll use \"time of entry into node\" computed by DFS."
   ]
  },
  {
   "cell_type": "markdown",
   "metadata": {},
   "source": [
    "So, let $tin[v]$ denote entry time for node $v$. We introdeuce an array $low$ which will let us check the fact for each vertex $v$. $low[v]$ is the minimum of $tin[v]$, the entry times $tin[p]$ for each node $p$ that is connected to node $v$ via a back-edge $(v, p)$ and the values of $low[to]$ for each vertex $to$ which is a direct descendant of $v$ in the DFS tree:\n",
    "\n",
    "\n",
    "\n",
    "\\begin{equation}\n",
    "  X = min\\left \\{\n",
    "  \\begin{aligned}\n",
    "    &tin[v], \\\\\n",
    "    &tin[p], && \\text{for all $p$ for which $(v, p)$ is a back-edge} \\\\\n",
    "    &low[to], && \\text{for all $to$ for which $(v, to)$ is a tree edge}\n",
    "  \\end{aligned} \\right.\n",
    "\\end{equation} \n",
    "\n",
    "}"
   ]
  },
  {
   "cell_type": "markdown",
   "metadata": {},
   "source": [
    "Now there is a back-edge from vertex $v$ or one of it's descendants to one of it's ancestors if and only if vertex $v$ has a child $to$ for which $low[to] \\leq tin[v]$. If $low[to] = tin[v]$, the back edge comes directly to $v$, otherwise it comes to one of the ancestors of $v$."
   ]
  },
  {
   "cell_type": "markdown",
   "metadata": {},
   "source": [
    "Thus the current edge $(v, to)$ in the DFS tree is a bridge if and only if $low[to] > tin[v]$."
   ]
  }
 ],
 "metadata": {
  "language_info": {
   "name": "python"
  },
  "orig_nbformat": 4
 },
 "nbformat": 4,
 "nbformat_minor": 2
}
