{
 "cells": [
  {
   "cell_type": "markdown",
   "metadata": {},
   "source": [
    "### Depth First Search\n",
    "\n",
    "One of the main graph algorithms. DFS finds the lexicographical first path in the graph from a source vertex $u$ to every other vertex. DFS will also find the shortest paths in a tree but on general graphs this is not the same.\n",
    "\n",
    "The algorithms works in $O(n+m)$ where $n$ is the number of vertices and $m$ is the number of edges."
   ]
  },
  {
   "cell_type": "markdown",
   "metadata": {},
   "source": [
    "#### Description\n",
    "\n",
    "The idea behind DFS is to go as deep into the graph and backtrack once you are at the vertex without any unvisited adjacent vertices.\n",
    "\n",
    "It is very easy to describe the algorithm recursively: We start the search at one vertex After visiting a vertex, we further perform DFS for each adjacent vertex that we haven't visited. This way we visited all vertices that are reachable from the starting vertex."
   ]
  },
  {
   "cell_type": "markdown",
   "metadata": {},
   "source": [
    "#### Applications\n",
    "\n",
    "1. Find any path in the graph from source vertex $u$ to all vertices.\n",
    "2. Find lexicographical first path in the graph from source $u$ to all vertices.\n",
    "3. Check if a vertex in a tree is an ancestor of another vertex.\n",
    "4. Find the LCA of two vertices.\n",
    "5. Topological sorting.\n",
    "6. Check whether the graph is acyclic and find cycles in a graph.\n",
    "7. Find strongly connected components in a directed graph.\n",
    "8. Find bridges in an undirected graph."
   ]
  },
  {
   "cell_type": "markdown",
   "metadata": {},
   "source": [
    "#### Classification of edges of a graph\n",
    "\n",
    "We can classify the edges using the entry and exit time of the end nodes $u$ and $v$ of the edges $(u,v)$. These are used for problems like finding bridges and finding articulation points\n",
    "\n",
    "We perform BFS and DFS and classify the encountered edges using the following rules:\n",
    "\n",
    "If $v$ is not visited:\n",
    "1. Tree Edge - If $v$ is visited after $u$ then edge $(u, v)$ is called a tree edges. In other words, if $v$ is visited for the first time and $u$ is currently being visited then $(u, v)$ is called tree edge. These edges form a DFS tree and hence the name tree edges.\n",
    "\n",
    "If $v$ is visited before $u$:\n",
    "1. Back edges: If $v$ is an ancestor of $u$, then the egde$(u, v)$ is a back edge. $v$ is an ancestor exactly if we already entered $v$, but not exited it yet. Back edges complete a cycle as there is a path from ancestor $v$ to descendant $u$ (in the recursion of DFS) and an edge from descendant $u$ to ancestor $v$ (back edge), thus a cycle is formed. Cycles cann be detected using back edges.\n",
    "\n",
    "2. Forward edges: If $v$ is a descendant of $u$, then edge $(u, v)$ is a forward edge. In other words, if we have already visited and exited $v$ and $entry[u] < entry[v]$ then the edge is $(u, v)$ is a forward edge.\n",
    "\n",
    "3. Cross edges: If $v$ is neither an ancestor or descendant of $u$, then edge $(u, v)$ is a cross edge. In other words, if we already visited and exited $v$ and $entry[u] > entry[v]$ then $(u, v)$ is a cross edge.\n",
    "\n",
    "<b>Note</b>: Forward and cross edges only exists in directed graphs."
   ]
  }
 ],
 "metadata": {
  "language_info": {
   "name": "python"
  },
  "orig_nbformat": 4
 },
 "nbformat": 4,
 "nbformat_minor": 2
}
