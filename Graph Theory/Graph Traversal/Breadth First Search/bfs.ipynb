{
 "cells": [
  {
   "cell_type": "markdown",
   "metadata": {},
   "source": [
    "### Breadth First Search"
   ]
  },
  {
   "cell_type": "markdown",
   "metadata": {},
   "source": [
    "Breadth First Search(BFS) is one of the basic and essential searching algorithms on graphs."
   ]
  },
  {
   "cell_type": "markdown",
   "metadata": {},
   "source": [
    "As a result of the path found BFS to any node is the shortest path to that node(i.e the path that contains smallest number of edges in unweighted graph).\n",
    "\n",
    "The algorithm works in $O(n+m)$ time, where $n$ is number of vertices and $m$ is the number of edges."
   ]
  },
  {
   "cell_type": "markdown",
   "metadata": {},
   "source": [
    "#### Description\n",
    "\n",
    "The algorithm takes unweighted graph and the id of source vertex $s$ as the input. The input graph can be directed or undirected.\n",
    "\n",
    "Statement: Create a queue $q$ which will contain the vertices to be processed and Boolean array $visited[]$ which indicates for each vertex, if it has been visited.\n",
    "\n",
    "Initially push the source $s$ to the queue and set $visited[s] = true$ and for all other vertices $v$ set $visited[v]=false$. Then loop until the queue is empty and in each iteration pop a vertex from the front of the queue. Iterate through all the edges going out of the vertex and if some of the edges go to vertices that are not already visited place them in the queue.\n",
    "\n",
    "As a result, when the queue is empty, the $visited[]$ contains all vertices reachable from the source $s$ with each vertex reached in the shortest possible way. You can also calculate the lengths of the shortest paths(requires maintaining an array of path lengths $d[]$) as well as save information to restore all these shortest paths(for this we need an array \"parents\" p[] which stores for each vertex the vertex from which we reached it)."
   ]
  },
  {
   "cell_type": "markdown",
   "metadata": {},
   "source": [
    "#### Applications\n",
    "\n",
    "1. Find the shortest path from a source to other vertices in an unweighted graph.\n",
    "2. Find all the connected components in an undirected graph in $O(n+m)$ time: To do this, we just run BFS starting from each vertex except for the vertices which has already been visited from previous runs. Thus we perform normal BFS from each of the vertices but do reset the array $visited[]$ each and every time we get a new connected component and total running time will still be $O(n+m)$.\n",
    "3. Finding a solution to a problem with least number of moves, if each state of the game can be represented by a vertex of the graph, and the transititons from one state to the other are the edges of the graph\n",
    "4. Finding the shortest path in a graph with weights $0$ or $1$.\n",
    "5. Finding the shortest cycle in a directed unweighted graph.\n",
    "6. Finding all the edges that lie on any shortest path between a given pair of vertices.\n",
    "7. Find all the vertices on any shortest path between a given pair of vertices\n",
    "8. Find the shortest path of even length from a source vertex to a target vertex in an unweighted graph."
   ]
  }
 ],
 "metadata": {
  "language_info": {
   "name": "python"
  },
  "orig_nbformat": 4
 },
 "nbformat": 4,
 "nbformat_minor": 2
}
