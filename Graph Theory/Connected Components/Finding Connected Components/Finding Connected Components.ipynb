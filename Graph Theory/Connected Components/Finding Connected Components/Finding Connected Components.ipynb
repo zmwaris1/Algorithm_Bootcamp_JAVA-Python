{
 "cells": [
  {
   "cell_type": "markdown",
   "metadata": {},
   "source": [
    "### Search for connected components in a Graph"
   ]
  },
  {
   "cell_type": "markdown",
   "metadata": {},
   "source": [
    "Given an undirected Graph $G$ with $n$ nodes and $m$ edges. We are required to find all the connected components in it, i.e, several groups of vertices such that within a group each vertex can be reached from another and no path exists between different groups."
   ]
  },
  {
   "cell_type": "markdown",
   "metadata": {},
   "source": [
    "#### Algorithm\n",
    "\n",
    "1. We can use DFS or BFS.\n",
    "2. We will be doing a series of rounds of DFS; the first round will start from the first node and all the nodes in the first connected component will be traversed. Then we find the first unvisited node of the remaining nodes and run DFS on it, thus finding a second connected component,and so on until all the nodes are visited.\n",
    "3. The total running time of the algorithm is $O(n+m)$."
   ]
  }
 ],
 "metadata": {
  "language_info": {
   "name": "python"
  },
  "orig_nbformat": 4
 },
 "nbformat": 4,
 "nbformat_minor": 2
}
