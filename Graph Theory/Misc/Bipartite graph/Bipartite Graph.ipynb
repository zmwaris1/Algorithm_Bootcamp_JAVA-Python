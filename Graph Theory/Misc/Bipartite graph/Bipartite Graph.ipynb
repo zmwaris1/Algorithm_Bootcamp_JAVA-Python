{
 "cells": [
  {
   "cell_type": "markdown",
   "metadata": {},
   "source": [
    "### Check whether a graph is bipartite"
   ]
  },
  {
   "cell_type": "markdown",
   "metadata": {},
   "source": [
    "A bipartite graph is a graph whose vertices can be divided into two disjoint sets so that every edge connects two vertices from different sets(i.e, there are no edges which connect vertices from the same set). These sets are usually called sides."
   ]
  },
  {
   "cell_type": "markdown",
   "metadata": {},
   "source": [
    "#### Algorithm\n",
    "\n",
    "The theorem which claims that a graph is bipartite iff all it's cycles have even length. However in practice it's more convenient to use a different formulation of the definition: a graph is bipartite iff is two colorable.\n",
    "\n",
    "Let's use a series of BFSs, starting from each vertex which has not been visited yet. In each search assign the vertex from which we start to side 1. Each time we visit a yet unvisited neighbour of a vertex assigned to one side, we assign it to the other side. When we try to go to a neighbour of a vertex assigned to one side which has already been visited, we check that it has been already been visited, we check that it has been assigned to the other side, if it has been assigned to the same side, we conclude that the graph is not bipartite. Once we've visited all vertices and successfully assigned them to sides, we know that the graph is bipartite and we have constructed it's partitioning."
   ]
  }
 ],
 "metadata": {
  "language_info": {
   "name": "python"
  },
  "orig_nbformat": 4
 },
 "nbformat": 4,
 "nbformat_minor": 2
}
