{
 "cells": [
  {
   "cell_type": "markdown",
   "metadata": {},
   "source": [
    "### Topological Sorting"
   ]
  },
  {
   "cell_type": "markdown",
   "metadata": {},
   "source": [
    "You are given a directed graph with $n$ vertices and $m$ edges. You have to number the vertices so that every edge leads from the vertex with a smaller number assigned for the vertex with a larger one.\n",
    "\n",
    "In other words you want to find a permutation of the vertices (topological order) which corresponds to the order defined by all edges of the graph.\n",
    "\n",
    "Topological order can be non-unique (if the graph is empty or if there exists three vertices $a, b, c$ for which there exist path from $a $ to $b$ and from $a$ to $c$ bit not paths from $b$ to $c$ or from $c$ to $b$).\n",
    "\n",
    "Topological order may not exist at all if the graph contains cycles(because there is a contradiction: there is a path from $a$ to $b$ and vice versa).\n",
    "\n",
    "A common problem in which topological sorting occurs is the following. There are $n$ variables with unknown values. for some variables we know that one of them is less than the other. You have to check whether these constraints are contradictory and if not output the variables in non-decreasing order(if several answers are possible output any one).It is easy to notice that this is exactly the problem to find topological order of a graph with $n$ vertices."
   ]
  },
  {
   "cell_type": "markdown",
   "metadata": {},
   "source": [
    "#### Algorithm\n",
    "\n",
    "We use DFS to solve the problem.\n",
    "\n",
    "Let's assume the graph is acyclic. When started from vertex $v$, it tries to run along all edges outgoing from $v$. It fails to run along the edges for which the opposite ends have been visited previously and runs along the rest of the edges and start from their ends.\n",
    "\n",
    "Thus by the time of the call for DFS is ended all vertices that are reachable from $v$ either directly (via one edge) or indirectly are already visited by the search. Therefore if at the time of exit from DFS we add vertex $v$ to the beginning of a certain list in the end this list wil store a topological order of all vertices.\n",
    "\n"
   ]
  }
 ],
 "metadata": {
  "language_info": {
   "name": "python"
  },
  "orig_nbformat": 4
 },
 "nbformat": 4,
 "nbformat_minor": 2
}
