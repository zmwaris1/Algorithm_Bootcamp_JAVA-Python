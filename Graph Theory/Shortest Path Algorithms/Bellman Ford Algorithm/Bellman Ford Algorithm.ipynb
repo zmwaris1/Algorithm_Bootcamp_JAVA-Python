{
 "cells": [
  {
   "cell_type": "markdown",
   "metadata": {},
   "source": [
    "### Bellman Ford Algorithm"
   ]
  },
  {
   "cell_type": "markdown",
   "metadata": {},
   "source": [
    "Single source shortest path with negative edges"
   ]
  },
  {
   "cell_type": "markdown",
   "metadata": {},
   "source": [
    "Suppose we are given a weighted graph $G$ with $n$ vertices and $m$ edges, and some specified vertex $v$. You want to find the length of shortest paths from vertex $v$ to every other vertx.\n",
    "\n",
    "Unlike the Dijkstra's, this algorithm can also be applied to graphs containing negative weight edges. However if the graph contains a negative cycle then clearly the shortest path to some vertices does not exist(due to fact that the weight of the shortest path must be equal to minus infinity); however this algorithm can be modified to signal the presence of a cycle of negative weight, or even deduce this cycle."
   ]
  },
  {
   "cell_type": "markdown",
   "metadata": {},
   "source": [
    "#### ALgorithm"
   ]
  },
  {
   "cell_type": "markdown",
   "metadata": {},
   "source": [
    "Let us assume that the graph conatains no negative weight cycle. We will create an array of distances $d[0...n-1]$, which after execution of the algorithm will contain the answer to the problem. In the beginning we fill it as follows $d[v] = 0$, and all other elements $d[]$ equal to infinity.\n",
    "\n",
    "The algorithm consist of several phases. Each phase scans through all edges of the graph, and the algorithm tries to produce relaxation along each edge $(a,b)$ having weight $c$. Relaxation along the edges is an attempt to improve the value $d[b]$ using value $d[a] + c$. In fact, it means that we are trying to improve the answer for this vertex using edge $(a, b)$ and response for vertex $a$.\n",
    "\n",
    "It is claimed that $n-1$ phases of the algorithm are sufficient to correctly calculate the lengths of all shortest paths in the graph. For unreachable vertices the distance $d[]$ will remain equal to infinity."
   ]
  },
  {
   "cell_type": "markdown",
   "metadata": {},
   "source": [
    "#### Proof of the algorithm"
   ]
  },
  {
   "cell_type": "markdown",
   "metadata": {},
   "source": [
    "First, note that for all unreachable vertices $u$ the algorithm will work correctly, the label $d[u]$ will remain equal to infinity.\n",
    "\n",
    "Let us now prove the following assertion: After the execution of $i_{th}$ phase, the algorithm correctly finds all shortest paths whose number of edges does not exceed $i$.\n",
    "\n",
    "In other words, for any vertex $a$ let us denote the $k$ number of edges in the shortest path to it(if there are several such paths, you can take any). According to this statement, the algorithm guarantees that after $k-th$ phase the shortest path for a vertex $a$ will be found.\n",
    "\n",
    "<b>Proof</b>: Consider an arbitrary vertex $a$ to which there is a path from the starting vertex $v$, and consider a shortest path to it $(p_{0} = v, p_{1},..., p_{k} = a)$. Before the first phase, the shortest path to the vertex $p_{0} = v$ was found correctly. During the first phase, the edge $(p_{0}, p_{r})$ has been checked by the algorithm, and therefore, the distance to the vertex $p_{1}$ was correctly calculated after the first phase. Repeating the statement $k$ times, we see that after $k-th$ phase the distance to the vertex $p_{k} = a$ gets calculated correctly, which we wanted to prove. \n",
    "\n",
    "The last thing to notice is that any shortest path cannot have more than $n-1$ edges. Therefore, the algorithm sufficiently goes up to the $(n-1)th$ phase. After that no relaxation are guaranteed to improve the distance to some vertex."
   ]
  },
  {
   "cell_type": "markdown",
   "metadata": {},
   "source": [
    "#### The case of negative cycle\n",
    "\n",
    "In the presence of a negative cycle(s), there are further complications associated with the fact that distances to all vertices in this cycle, as well as the distances to the vertices reachable from this cycle is not defined - they should be equal to minus infinity $-\\infty$\n",
    "\n",
    "It is easy to see that the algorithm can endlessly do the relaxation among all vertices of this cycle and the vertices reachable fro it. Therefore, if you do not limit the number of phases to $n-1$, the algorithm will run indefinitely, constantly improving the distance from these vertices.\n",
    "\n",
    "Hence we obtain the criterin for presence of a cycle of negative weights reachable for source vertex $v$; after $(n-1)th$ phase. If we run algorithm for one more phase, and it performs at least one more relaxation, then the graph contains a negative weight cycle that is reachable from $v$; otherwise such a cycle does not exist.\n",
    "\n",
    "Moreover if such a cycle is found, the algorithm can be amodified so that it retrieves this cycle as a sequence of vertices contained in it. For this, it is sufficient to remember the last vertex $x$ for which there is a relaxation in $n-th$ phase. This vertex will either lie in a negative weight cycle, or is reachable from it. To get the vertices that are guaranteed to lie in a negative cycle, starting from the vertex $x$, pass through to the predecessors $n$ times. Hence we will get the vertex $y$, namely the vertex in the cycle earliest reachable from source. We have to go from this vertex, throught the predecessors until we get back to the same vertex $y$."
   ]
  }
 ],
 "metadata": {
  "language_info": {
   "name": "python"
  },
  "orig_nbformat": 4
 },
 "nbformat": 4,
 "nbformat_minor": 2
}
