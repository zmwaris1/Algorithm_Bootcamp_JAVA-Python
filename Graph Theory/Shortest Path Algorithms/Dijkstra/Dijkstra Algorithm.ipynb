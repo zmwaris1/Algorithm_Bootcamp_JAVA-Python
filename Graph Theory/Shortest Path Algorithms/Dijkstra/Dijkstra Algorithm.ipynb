{
 "cells": [
  {
   "cell_type": "markdown",
   "metadata": {},
   "source": [
    "### Dijkstra Algorithm\n",
    "\n",
    "In a given directed or undirected weighted graph with $n$ vertices and $m$ edges. The weights of all edges are non-negative. You are also given a starting vertex $s$. This article discusses finding the lengths of the shortest paths from a starting vertex to all other vertices.\n",
    "\n",
    "This problemm is also called <b>single-source shortest path problem</b>."
   ]
  },
  {
   "cell_type": "markdown",
   "metadata": {},
   "source": [
    "#### Algorithm"
   ]
  },
  {
   "cell_type": "markdown",
   "metadata": {},
   "source": [
    "Let's create an array $d[]$ where for each vertex $v$ we store the current length of the shortest path from $s$ to $v$ in $d[v]$. Initially $d[s] = 0$, and for all other vertices this length equals infinity. In the implementation a sufficiently large number (which is guraanteed to be greater than any possible path length) is chosen as infinity.\n",
    "\n",
    "$d[v] = \\infty , v \\neq s$\n",
    "\n",
    "In addition, we maintain a Boolean array $u[]$ which stores for each vertex $v$ whether it is marked. Initially all vertices are unmarked:\n",
    "\n",
    "$u[v] = false$\n",
    "\n",
    "The algorithm run for $n$ iterations. At each iteration a vertex $v$ is chosen as unmarked vertex which has the least value $d[v]$:\n",
    "\n",
    "In the first iteration the starting vertex $s$ will be selected. The selected vertex $v$ is marked. Next, from vertex $v$ <b>relaxations</b> are performed, all edges of the form $(v, to)$ are considered, and for each vertex to the algorithm tries to improve the value $d[to]$. If the length of the current edge equals $len$ the code for relaxation is:\n",
    "\n",
    "$d[to] = min(d[to], d[v]+len)$\n",
    "\n",
    "After all such edges are considered, the current iteration ends. Finally after $n$ iterations, all vertices will be marked, and the algorithm terminates. We claim that the found values $d[v]$ are the lengths of the shortest path from $s$ to all vertices $v$.\n",
    "\n",
    "Note that if some vertices are unreachable from starting vertex $s$, the values $d[v]$ for them will remain infinite. Obviously, the last few iterations of the algorithm will choose those vertices, but no useful work will be done for them. Therefore, the algorithm can be stopped as soon as the selected vertex has infinite distance to it."
   ]
  },
  {
   "cell_type": "markdown",
   "metadata": {},
   "source": []
  }
 ],
 "metadata": {
  "language_info": {
   "name": "python"
  },
  "orig_nbformat": 4
 },
 "nbformat": 4,
 "nbformat_minor": 2
}
