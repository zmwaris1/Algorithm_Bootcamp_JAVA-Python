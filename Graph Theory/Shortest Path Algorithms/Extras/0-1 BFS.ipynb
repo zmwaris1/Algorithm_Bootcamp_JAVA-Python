{
 "cells": [
  {
   "cell_type": "markdown",
   "metadata": {},
   "source": [
    "### 0-1 BFS"
   ]
  },
  {
   "cell_type": "markdown",
   "metadata": {},
   "source": [
    "It is well known that you can find the shortest paths between a single source and all other vertices in $O(|E|)$ using BFS in an unweighted graph, i.e, the distance is the minimal number if edges that you need to traverse from the source to another vertex. We can interpret such a graph also as a weighted graph, where every edge has the weight $1$. If not all edges in the graph have the same weight, then we need a more general algorithm like Dijkstra which runs in $O(|V|^{2} + |E|)$ or $O(|E|log|V|)$ time.\n",
    "\n",
    "However, if the weights are more constrained we can often do better. In this article we will see how we can use BFS to solve the single source smallest path problem in $O(|E|)$, if the weights of each edge is either $0$ or $1$."
   ]
  },
  {
   "cell_type": "markdown",
   "metadata": {},
   "source": [
    "#### Algorithm"
   ]
  },
  {
   "cell_type": "markdown",
   "metadata": {},
   "source": [
    "We can develop the algorithm by closely studying Dijkstra's algorithm and think about the consequences that our special graph implies. We notice that the difference between the distances between the source $s$ and two other vertices in a queue differs by at most one.\n",
    "\n",
    "Especially we know that $d[v] \\leq d[u] \\leq d[v] + 1$ for each $u \\in Q$. The reason for this is that we only add vertices with equal distance or with distance plus one to the queue each iteration. Assuming there exists a $u$ in the queue with $d[u] - d[v] > 1$, then $u$ must have been insert in the queue via a different vertex $t$ with $d[t] \\geq d[u] -1 > d[v]$. However this is impossible, since Dijkstra iterates over the vertices in increasing order.\n",
    "\n",
    "This means that the order of the queue looks like this:\n",
    "\n",
    "$Q = \\underbrace{v}_\\text{d[v]}, ..., \\underbrace{u}_\\text{d[v]}, \\underbrace{m}_\\text{d[v]+1}...\\underbrace{n}_\\text{d[v]+1}$"
   ]
  },
  {
   "cell_type": "markdown",
   "metadata": {},
   "source": [
    "This structure is so simple so, we can use a normal queue and new vertices at the beginning if the corresponding edge has weight $0$, i.e, if $d[u] = d[v]$, or at the end if the edge has weight $1$, i.e, if $d[u] = d[v] + 1$. This way the queue remains sorted all the time."
   ]
  }
 ],
 "metadata": {
  "language_info": {
   "name": "python"
  },
  "orig_nbformat": 4
 },
 "nbformat": 4,
 "nbformat_minor": 2
}
