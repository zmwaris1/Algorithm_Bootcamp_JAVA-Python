{
 "cells": [
  {
   "cell_type": "markdown",
   "metadata": {},
   "source": [
    "### Dijkstra on Sparse Graphs"
   ]
  },
  {
   "cell_type": "markdown",
   "metadata": {},
   "source": [
    "Let's create an array $d[]$ where for each vertex $v$ we store the current length of the shortest path from $s$ to $v$ in $d[v]$. Initially $d[s] = 0$, and for all other vertices this length equals infinity. In the implementation a sufficiently large number (which is guraanteed to be greater than any possible path length) is chosen as infinity.\n",
    "\n",
    "$d[v] = \\infty , v \\neq s$\n",
    "\n",
    "In addition, we maintain a Boolean array $u[]$ which stores for each vertex $v$ whether it is marked. Initially all vertices are unmarked:\n",
    "\n",
    "$u[v] = false$\n",
    "\n",
    "The algorithm run for $n$ iterations. At each iteration a vertex $v$ is chosen as unmarked vertex which has the least value $d[v]$:\n",
    "\n",
    "In the first iteration the starting vertex $s$ will be selected. The selected vertex $v$ is marked. Next, from vertex $v$ <b>relaxations</b> are performed, all edges of the form $(v, to)$ are considered, and for each vertex to the algorithm tries to improve the value $d[to]$. If the length of the current edge equals $len$ the code for relaxation is:\n",
    "\n",
    "$d[to] = min(d[to], d[v]+len)$\n",
    "\n",
    "After all such edges are considered, the current iteration ends. Finally after $n$ iterations, all vertices will be marked, and the algorithm terminates. We claim that the found values $d[v]$ are the lengths of the shortest path from $s$ to all vertices $v$.\n",
    "\n",
    "Note that if some vertices are unreachable from starting vertex $s$, the values $d[v]$ for them will remain infinite. Obviously, the last few iterations of the algorithm will choose those vertices, but no useful work will be done for them. Therefore, the algorithm can be stopped as soon as the selected vertex has infinite distance to it."
   ]
  },
  {
   "cell_type": "markdown",
   "metadata": {},
   "source": [
    "We recall in the deivation of the complexity of Dijkstar's algorithm we used two factors: the time of finding the unmarked vertex with the smallest distance $d[v]$, and the time of relaxation, i.e, the time of changing the values $d[to]$."
   ]
  },
  {
   "cell_type": "markdown",
   "metadata": {},
   "source": [
    "In the simplest implementation these operations require $O(n)$ and $O(1)$ time. Therefore, since we perform the first operation $O(n)$ times, and the second one $O(m)$ times, we obtained the complexity $O(n^{2}+m)$"
   ]
  },
  {
   "cell_type": "markdown",
   "metadata": {},
   "source": [
    "It is clear, that this complexity is optimal for a dense graph i.e, when $m=n^{2}$. However in sparse graphs where $m$ is much smaller than the maximal number of edges $n^{2}$, the complexity get less optimal because of the first term. Thus it is necessary to improve the execution time of the first operation."
   ]
  },
  {
   "cell_type": "markdown",
   "metadata": {},
   "source": [
    "To accomplish that we can use a variation of multiple auxillary data structures. The most efficient is the <b>Fibonacci Heap</b>, which allows the first operation to run in $O(logn)$ and the second operation in $O(1)$. Therefore we will get the complexity $O(nlogn +m)$ for Dijkstra's algorithm, which is also the theoretical minimum for the shortest path search problem. Therefore this algorithm works optimal, and Fibonacci heaps are the optimal data structure. However they are quite complex to implement, and also have a quite large hidden constant."
   ]
  },
  {
   "cell_type": "markdown",
   "metadata": {},
   "source": [
    "As a compromise you can use data structures, that perform both types of operations (extracting a minimum and updating an item) in $O(logn)$.Then the complexity of Dijkstra's algorithm is $O(nlogn + mlogn) = O(mlogn)$"
   ]
  }
 ],
 "metadata": {
  "language_info": {
   "name": "python"
  },
  "orig_nbformat": 4
 },
 "nbformat": 4,
 "nbformat_minor": 2
}
