{
 "cells": [
  {
   "cell_type": "markdown",
   "metadata": {},
   "source": [
    "### Eulerian Path"
   ]
  },
  {
   "cell_type": "markdown",
   "metadata": {},
   "source": [
    "A Eulerian path is a path in a graph that passes through all it's edges exactly once. A Eulerian cycle is a Eulerian path which is a cycle."
   ]
  },
  {
   "cell_type": "markdown",
   "metadata": {},
   "source": [
    "#### Algorithm"
   ]
  },
  {
   "cell_type": "markdown",
   "metadata": {},
   "source": [
    "We can use the following theorem to see if Eulerian Path exists. A Eulerian cycle exists iff the degrees of all vertices are even. And an Eulerian Path exists iff number of vertices with odd degrees is two(or zero, in the case of the existence of Eulerian cycle). In addition, of course the graph must be sufficiently connected (i.e, if you remove all isolated vertices from it, you should get a connected graph).\n",
    "\n",
    "To find the Eulerian path/cycle we can use the following strategy:\n",
    "\n",
    "We find all simple cycles and combine them into one - this will be the Eulerian cycle. If the graph is such that the Eulerian path is not a cycle, then add the missing edge,find the cycle and remove the edge.\n",
    "\n",
    "Looking for all cycles and combining them can be done with a simple recursive procedure:\n",
    "\n",
    "1. iterate through all the edges outgoing from vertex v; remove this edge from the graph, and call the function recusrively from the second end of the edge.\n",
    "2. add vertex v to to the answer\n",
    "\n",
    "The complexity is linear with respect to the edges.\n",
    "\n",
    "In non-recursive form:\n",
    "\n",
    "1. implement stack S.\n",
    "2. put start vertex in S.\n",
    "3. until S is empty:\n",
    "    a. let V be the value at the top S.\n",
    "    b. if degree(V) = 0, then,\n",
    "        add V to the answer,\n",
    "        remove V from the top of S,\n",
    "    otherwise:\n",
    "        find any edge coming out of V;\n",
    "        remove it from the graph;\n",
    "        put the second ens of this edge in S.\n",
    "\n",
    "The second one is faster because of recusrion overhead not present."
   ]
  }
 ],
 "metadata": {
  "language_info": {
   "name": "python"
  },
  "orig_nbformat": 4
 },
 "nbformat": 4,
 "nbformat_minor": 2
}
