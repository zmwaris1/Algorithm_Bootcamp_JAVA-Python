{
 "cells": [
  {
   "cell_type": "markdown",
   "metadata": {},
   "source": [
    "### Finding negative cycle in a graph"
   ]
  },
  {
   "cell_type": "markdown",
   "metadata": {},
   "source": [
    "You are given a directed weighted graph $G$ with $N$ vertices and $M$ edges. Find any cycle of negative weight in it, if it exists.\n",
    "\n",
    "In another formulation of the problem you have to find all pairs of vertices which have a path of arbitrary small weight between them.\n",
    "\n",
    "It is convenient to use different algorithms to solve these two variations of the problem, so we'll discuss both of them here"
   ]
  },
  {
   "cell_type": "markdown",
   "metadata": {},
   "source": [
    "#### Using Bellman-Ford algorithm"
   ]
  },
  {
   "cell_type": "markdown",
   "metadata": {},
   "source": [
    "It allows you to check whether there exists a cycle of negative weight in the graph and if it does, find one of these cycles.\n",
    "\n",
    "The details of the algorithm are described in Shortest Path Algorithms.\n",
    "\n",
    "Do $N$ iterations of the algorithm. If there were no changes on the last iteration, there is no cycle of negative weight in the graph. Otherwise take a vertex the distance to which has changed and go from it via it's ancestors until a cycle is found. This cycle will be the desired cycle of negative weight."
   ]
  },
  {
   "cell_type": "markdown",
   "metadata": {},
   "source": [
    "#### Using Floyd-Warshall algorithm\n",
    "\n",
    "This algorithm allows to solve the second variation of the problem - finding all pairs of vertices $(i, j)$ which don't have a shortest path between then (i.e, a path of arbitrary small weight exists).\n",
    "\n",
    "Run Floyd-Warshall(\"All pair shortest path\" directory) algorithm on the graph. Initially $d[v][v] = 0$ for each $v$. But after running the algorithm $d[v][v]$ will be smaller than $0$ if there exists a negative path form $v$ to $v$. We can use this to also find all pairs of vertices that don't have a shortest path between them. We iterate over all pairs of vertices $(i, j)$ and for each pair we check whether they have a shortest path between them. To do this try all possibilities for an intermediate vertex t. $(i, j)$ doesn't have a shortest path if one of the intermediate vertices $t$ has $d[t][t] < 0$ (i.e, $t$ is part of a cycle of negative weight), $t$ can be reached from $i$ and $j$ can be reached from $t$. Then the path from $i$ to $j$ can have arbitrary small weight. We denote this with $-INF$."
   ]
  }
 ],
 "metadata": {
  "language_info": {
   "name": "python"
  },
  "orig_nbformat": 4
 },
 "nbformat": 4,
 "nbformat_minor": 2
}
