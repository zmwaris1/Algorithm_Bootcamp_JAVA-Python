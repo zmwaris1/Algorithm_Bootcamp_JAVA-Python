{
 "cells": [
  {
   "cell_type": "markdown",
   "metadata": {},
   "source": [
    "### Checking a graph for acyclicity and finding a cycle in $O(M)$"
   ]
  },
  {
   "cell_type": "markdown",
   "metadata": {},
   "source": [
    "Consider a directed or undirected graph without loops and multiple edges. we have to check whether it is acyclic and if it is not then find the cycle.\n",
    "\n",
    "We will use DFS to solve the problem in $O(M)$ where $M$ is number of edges."
   ]
  },
  {
   "cell_type": "markdown",
   "metadata": {},
   "source": [
    "#### Algorithm\n",
    "\n",
    "We will run a series of DFS in the graph. Initially all the vertices are coloured white(0). From each unvisited white vertex, start DFS, mark it as gray(1) while entering and mark it black(2) on exit. If DFS moves to a gray vertex, then we have found a cycle (if the graph is undirected, the edge to parent is not considered). Then cycle itself can be reconstructed using parent array."
   ]
  }
 ],
 "metadata": {
  "language_info": {
   "name": "python"
  },
  "orig_nbformat": 4
 },
 "nbformat": 4,
 "nbformat_minor": 2
}
