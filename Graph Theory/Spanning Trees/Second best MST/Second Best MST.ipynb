{
 "cells": [
  {
   "cell_type": "markdown",
   "metadata": {},
   "source": [
    "### Second Best MST"
   ]
  },
  {
   "cell_type": "markdown",
   "metadata": {},
   "source": [
    "A MST $T$ is a tree for the given graph $G$ which spans over all vertices of the given graph and has the minimum weight sum of all the edges, from all the possible spanning trees. A second best MST $T'$ is a spanning tree, that has the second minimum weight sum of all the edges, from all possible spanning trees of the graph $G$."
   ]
  },
  {
   "cell_type": "markdown",
   "metadata": {},
   "source": [
    "Let $T$ be the MST of graph $G$. It can be observed that the second best MST differs from $T$ by only one edge.\n",
    "\n",
    "So, all we need is to find an edge $e_{new}$ which is not in $T$, and replace it with an edge in $T$ such that the new graph $T' = (T \\cup e_{new})$ \\ $e_{old}$ is a spanning tree and the weight difference $(e_{new}-e_{old})$. "
   ]
  },
  {
   "cell_type": "markdown",
   "metadata": {},
   "source": [
    "#### Algorihm-Kruskal"
   ]
  },
  {
   "cell_type": "markdown",
   "metadata": {},
   "source": [
    "1. Sort the edges in $O(ElogE)$, then find a MST using kruskal in $O(E)$.\n",
    "2. For each edge in the MST (we will have $V-1$ edges in it) temporarily exclude it from the edge list so that it cannot be chosen.\n",
    "3. Then again try to find a MST in $O(E)$ using the remaining edges.\n",
    "4. Do this for all the edges in MST, and take the best of all.\n",
    "\n",
    "So, the overall complexity will be $O(Elog V + E + VE) = O(VE)$"
   ]
  },
  {
   "cell_type": "markdown",
   "metadata": {},
   "source": [
    "#### LCA(Lowest Common Ancestor) approach"
   ]
  },
  {
   "cell_type": "markdown",
   "metadata": {},
   "source": [
    "Here we will do the exact opposite of the above algorithm. We try to add every edge that is not already in the MST.\n",
    "\n",
    "1. Sort the edges in $O(ElogE)$, then find a MST using Kruskal's in $O(E).$\n",
    "2. For each edge $e$ not already in the MST, temporarily add it to the MST creating a cycle.\n",
    "3. Find the edge $k$ with maximal weight in the cycle that is not equal to $e$.\n",
    "4. Remove $k$ temporarily, creating a new spanning tree.\n",
    "5. Compute the difference in weight $\\delta = weight(e) - weight(k)$, and remember it together with the changed edge.\n",
    "6. Repeat step 2 for all the other edges, and return the spanning tree with the smallest weight difference to the MST.\n",
    "\n",
    "The time complexity of the algorithm depends on how we compute the $k$'s, which are the maximum weight edges in step 2 of this algorithm. One way to compute them efficiently in $O(Elog V)$ is to transform the problem into a LCA problem.\n",
    "\n",
    "We will preprocess the LCA by rooting the MST and will also compute the maximum edge weights for each node on the paths to their ancestors. This can be done using Binary Lifting for LCA.\n",
    "\n",
    "The time complexity of this approach is $O(E log V)$."
   ]
  },
  {
   "cell_type": "markdown",
   "metadata": {},
   "source": []
  }
 ],
 "metadata": {
  "language_info": {
   "name": "python"
  },
  "orig_nbformat": 4
 },
 "nbformat": 4,
 "nbformat_minor": 2
}
