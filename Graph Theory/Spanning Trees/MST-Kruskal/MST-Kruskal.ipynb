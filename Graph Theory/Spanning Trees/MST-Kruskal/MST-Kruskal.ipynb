{
 "cells": [
  {
   "cell_type": "markdown",
   "metadata": {},
   "source": [
    "### MST-Kruskal's algorithm"
   ]
  },
  {
   "cell_type": "markdown",
   "metadata": {},
   "source": [
    "Given a weighted undirected graph. We want to find a subtree of this graph which connects all vertices and has the least total weight of all possible spanning trees."
   ]
  },
  {
   "cell_type": "markdown",
   "metadata": {},
   "source": [
    "#### Properties of MST"
   ]
  },
  {
   "cell_type": "markdown",
   "metadata": {},
   "source": [
    "1. A MST of a graph is unique, if the weight of all edges are distinct.\n",
    "2. MST is also the tree with minimum product of weights of edges.\n",
    "3. In a MST of a graph, the maximum weight of an edge is the minimum possible from all possible MST of that graph.\n",
    "4. The maximum spanning tree of a graph can obtained similarly to that of the MST, by changing the signs of the weights of all the edges to their opposite and then applying any of the MST algorithm."
   ]
  },
  {
   "cell_type": "markdown",
   "metadata": {},
   "source": [
    "#### Kruskal's Algorithm\n",
    "\n",
    "It initially places all the nodes of the original graph isolated from each other, to form a forest of single node trees, and then gradually merge these trees, combining at each iteration any two of all trees with some edge of the original graph. Before the execution of the algorithm, all edges are sorted by weight (in increasing order).Then begins the process of unification, pick all edges from the first to the last and if the ends of the currently picked edge belong to different subtrees, these subtrees are combined and the edge is added to the answer. After iterating through all the edges, all the vertices will belong to the same subtree and we will get the answer."
   ]
  },
  {
   "cell_type": "markdown",
   "metadata": {},
   "source": [
    "### MST-Kruskal with Disjoint set union - Implementation only"
   ]
  }
 ],
 "metadata": {
  "language_info": {
   "name": "python"
  },
  "orig_nbformat": 4
 },
 "nbformat": 4,
 "nbformat_minor": 2
}
