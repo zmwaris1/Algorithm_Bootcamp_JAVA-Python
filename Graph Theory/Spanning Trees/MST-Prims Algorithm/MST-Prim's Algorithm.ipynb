{
 "cells": [
  {
   "cell_type": "markdown",
   "metadata": {},
   "source": [
    "### Minimum Spanning Tree - Prim's Algorithm\n",
    "\n",
    "Given a weighted undirected graph $G$ with $n$ vertices and $m$ edges. The problem is to find a spanning tree of this graph which connects all vertices and has the least weight(the sum of weights of edges is minimal). A spanning tree is a set of edges such that any vertex can reach any other by exactly one simple path. The spanning tree with the least weight is called a MST(minimum spanning tree)."
   ]
  },
  {
   "cell_type": "markdown",
   "metadata": {},
   "source": [
    "Note: Any spanning tree will necessarily contain $n-1$ edges.\n",
    "\n",
    "Example Problem: There a $n$ cities and for each pair of cities we are given the cost to build roads between them (or we know that it is physically impossible to build a road between them). We have to build roads, such that we can get from each city to every other city, and the cost of building roads is minimal"
   ]
  },
  {
   "cell_type": "markdown",
   "metadata": {},
   "source": [
    "#### Prim's Algorithm\n",
    "\n",
    "The minimum spanning tree is built gradually by adding edges one at a time. At first the spanning tree consists of only a single vertex(arbitrary). Then the minimum weight edge outgoing from this vertex is selected and added to the tree. After that the spanning tree alrady consists of two vertices. Now select and add the edge with the minimum weight that has one end in an already selected vertex and the other end in an unselected vertex and so on. The process is repeated until the spanning tree contains all vertices(equivalently equal to $n-1$).\n",
    "\n",
    "In the end the constructed spanning tree will be minimal. If the graph was originally not connected, then there doesn't exist a spanning tree, so the number of selected edges will be less than $n-1$."
   ]
  },
  {
   "cell_type": "markdown",
   "metadata": {},
   "source": [
    "#### Proof\n",
    "\n",
    "Let the graph $G$ be connected, i.e, the answer exists. We denote by $T$ the resulting graph found by Prim's algorithm and by $S$ the MST. Consider the first time in the algorithm when we add an edge to $T$ that is not a part of $S$. Let us denote this edge with $e$, it's ends by $a$ and $b$, and the set of already selected vertices as $V (a \\in V$ and $b \\notin V$, or vice versa)."
   ]
  },
  {
   "cell_type": "markdown",
   "metadata": {},
   "source": [
    "In the MST $S$ the vertices $a$ and $b$ are connected by some path $P$. On this path we can find an edge $f$ such that one end of $f$ lies in $V$ and the other doesn't. Since the algorithm chose $e$ instead of $f$, it means the weight of $f$ is greater than or eqla to $e$.\n",
    "\n",
    "We add the edge $e$ to the MST $S$ and remove edge $f$. By adding $e$ we created a cycle, and since $f$ was also part of the only cycle, by removing it the resulting graph is again free of cycles. And because we only removed an edge from a cycle, the resulting graph is still connected.\n",
    "\n",
    "The resulting spanning tree cannot have a larger total weight, since the weight of $e$ was not larger than the weight of $f$, and it also cannot have a smaller weight since $S$ was a MST. This means that by replacing the edge $f$ with $e$ we generated a different MST. And $e$ has to have the same weight as $f$.\n",
    "\n",
    "Thus all the edges we pick in Prim's have the same weights as the edges of any MST, which means that Prim's really generates a MST."
   ]
  }
 ],
 "metadata": {
  "language_info": {
   "name": "python"
  },
  "orig_nbformat": 4
 },
 "nbformat": 4,
 "nbformat_minor": 2
}
