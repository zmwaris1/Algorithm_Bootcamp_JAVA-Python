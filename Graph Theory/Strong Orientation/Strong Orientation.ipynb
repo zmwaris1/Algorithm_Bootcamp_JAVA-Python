{
 "cells": [
  {
   "cell_type": "markdown",
   "metadata": {},
   "source": [
    "### Strong Orientation"
   ]
  },
  {
   "cell_type": "markdown",
   "metadata": {},
   "source": [
    "A strong orientation of an undirected graph is an assignment of a direction to each edge that makes it a strongly connected graph. That is, after the orientation we should be able to visit any vertex from any vertex by following the directed edges."
   ]
  },
  {
   "cell_type": "markdown",
   "metadata": {},
   "source": [
    "#### Solution"
   ]
  },
  {
   "cell_type": "markdown",
   "metadata": {},
   "source": [
    "Of course, this cannot be done to every graph. Consider a bridge in a graph. We have to assign a direction to it and by doing so we make this bridge \"crossable\" in only one direction, which means we can't go from one of the bridge's end to the other, so we can't make the graph strongly connected.\n",
    "\n",
    "Now consider a DFS through a bridgeless connected graph. Clearly, we will visit each vertex. And since there are no bridges, we can remove any DFS tree edge and still be able to go from below the edge to above the edge by using a path that contains at least one back edge. From this follows that from any vertex we can go to the root of the DFS tree. Also, from the root of the DFS tree we can visit any vertex we choose. We found a strong orientation."
   ]
  },
  {
   "cell_type": "markdown",
   "metadata": {},
   "source": [
    "The result of bridgeless connected graphs are exactly the graphs that have strong orientations is called Robbin's theorem."
   ]
  },
  {
   "cell_type": "markdown",
   "metadata": {},
   "source": [
    "Problem: Let's consider the problem of finding a graph orientation so that the number of SCC's is minimal. Of course, each graph component can be considered seperately. Now, since only bridgeless graphs are strongly orientable, let's remove all bridges temporarily. We end up with some number of bridgeless components and we know we can strongly orient them.\n",
    "\n",
    "We were only allowed to orient edges, not remove them, but it turns out we can orient the bridges arbitrarily. Of course, the easiest way to orient them is to run the algorithm described above without modifications on each original connected component."
   ]
  },
  {
   "cell_type": "markdown",
   "metadata": {},
   "source": [
    "#### Algorithm\n",
    "\n",
    "Here the input is $n$ - the number of vertices, $m$ - the number of edges, then $m$ lines describing the edges.\n",
    "\n",
    "The output is the minimal number of SCCs on the first line and on the second line a string of $m$ characters, either telling us that the corresponding edge from the input is oriented from the left to the right vertex( as in the input ) or the opposite.\n",
    "\n",
    "This is a bridge search algorithm modified to also orient the egdes, you can as well orient the edges as a first step and count the SCCs on the oriented graph as a second."
   ]
  }
 ],
 "metadata": {
  "language_info": {
   "name": "python"
  },
  "orig_nbformat": 4
 },
 "nbformat": 4,
 "nbformat_minor": 2
}
