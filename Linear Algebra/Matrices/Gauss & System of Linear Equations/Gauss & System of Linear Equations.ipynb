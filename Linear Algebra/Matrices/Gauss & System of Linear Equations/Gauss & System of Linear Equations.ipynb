{
 "cells": [
  {
   "cell_type": "markdown",
   "metadata": {},
   "source": [
    "### Gauss & System of Linear Equations"
   ]
  },
  {
   "cell_type": "markdown",
   "metadata": {},
   "source": [
    "Given a system of $n$ linear algebraic equations with $m$ unknowns. You are asked to find if:\n",
    "\n",
    "1. The SLE has no solution\n",
    "2. The SLE has a unique solution\n",
    "3. The SLE has infinite solutions\n",
    "\n",
    "Formally the given SLE is represented as:\n",
    "\n",
    "$a_{11}x_{1} + a_{12}x_{2} + ... + a_{1m}x_{m} = b_{1}$\n",
    "\n",
    "$a_{21}x_{1} + a_{22}x_{2} + ... + a_{2m}x_{m} = b_{2}$\n",
    "\n",
    "$\\space \\space \\space \\space \\space .....$\n",
    "\n",
    "$a_{n1}x_{1} + a_{n2}x_{2} + ... + a_{nm}x_{m} = b_{n}$"
   ]
  },
  {
   "cell_type": "markdown",
   "metadata": {},
   "source": [
    "where the coefficients $a_{ij}$ (for $i$ from $1$ to $n$, $j$ from $1$ to $m$) and $b_{i}$ ($i$ from $1$ to $n$ are known )and variables $x_{i}$ ($i$ from $1$ to $m$) are unknowns."
   ]
  },
  {
   "cell_type": "markdown",
   "metadata": {},
   "source": [
    "#### Overview\n",
    "\n",
    "The algorithm is a sequential elimination of the variables in each equation, until each equation will have only one remaining variable. If $n=m$, you can say it as transforming the matrix to identity matrix and solve the equation in this obvious case, where solution is unique and is equal to coefficient $b_{i}$."
   ]
  },
  {
   "cell_type": "markdown",
   "metadata": {},
   "source": [
    "Gaussian elimination is based on two simple transformations:\n",
    "\n",
    "1. It is simple to exchange two equations.\n",
    "2. Any equation can be replaced by a linear combination of that row(with non-zero coefficient) and some other rows (with arbitrary coefficents)."
   ]
  },
  {
   "cell_type": "markdown",
   "metadata": {},
   "source": [
    "In the first step the algorithm divides the first row by $a_{11}$. Then, the algorithm adds the first row to the remaining rows such that the coefficients in the first column become all zeros. To achieve this on the $i$-th row, we must add the first row multiplied by $a_{i1}$. Note that, this operation must also be performed on $B$."
   ]
  },
  {
   "cell_type": "markdown",
   "metadata": {},
   "source": [
    "After the transformation, the first column of matrix $A$ will consist of $1$ on the first row, and $0$ on the other rows."
   ]
  },
  {
   "cell_type": "markdown",
   "metadata": {},
   "source": [
    "Similarly, we perform the second step of the algorithm, where we consider the second column of the second row. First, the row is divided by $a_{22}$, then it is subtracted from other rows so that all the second column becomes $0$(except for the second row).\n",
    "\n",
    "We continue this process for all columns of matrix $A$. If $n=m$, then $A$ will become identity matrix.\n",
    "\n",
    "#### Search for the pivoting element\n",
    "\n",
    "The described scheme left out many details. At the $i$-th step if $a_{ii}$ is zero, we cannot apply directly the described method. Instead, we must first select a pivoting row; find one row of the matrix where the $i$-th column is non-zero, and then swap the two rows. Note that here we swap rows and not columns, because if you swap columns, then after finding the solution you must swap them back to correct places. Thus swapping rows is much easier.\n",
    "\n",
    "When $a_{ii} \\neq 0$ you can still swap the $i$-th row with some pivoting row, using some heuristics such as choosing the pivoting row with maximum absolute value of $a_{ji}$. This is used to reduce the value range of the matrix in later steps.\n",
    "\n",
    "#### Degenerate cases\n",
    "\n",
    "In the case where $m=n$ and the system is non-degenerate(non-zero determinant and has unique solution), the algorithm described above will transform $A$ into identity matrix.\n",
    "\n",
    "Now we consider when $n$ and $m$ are not equal and the system can be degenerate. In these cases the pivoting element in $i$-th step may not be found. This means that on the $i$-th column starting from the current line, all contains zeros. In this case, either their is no possible solution or infinite solutions. When implementing the algorithm you should continue to work for subsequent variables and skip the $i$-th column.\n",
    "\n",
    "So, some of the variables in the process can be found to be independent. When the number of variables, $m$ is greater than the number of equations, $n$, then at least $m-n$ independent variables will be found.\n",
    "\n",
    "In general, if you find at least one independent variable, it can take any arbitrary value, while the other variables are exposed through it. This means when we work in the field of real numbers, the variables has infinite solutions. But you should remember that when there are independent variables, SLE can have no solution. This happens when the remaining untreated equations have at-least one non-zero constant term."
   ]
  },
  {
   "cell_type": "markdown",
   "metadata": {},
   "source": []
  }
 ],
 "metadata": {
  "language_info": {
   "name": "python"
  },
  "orig_nbformat": 4
 },
 "nbformat": 4,
 "nbformat_minor": 2
}
