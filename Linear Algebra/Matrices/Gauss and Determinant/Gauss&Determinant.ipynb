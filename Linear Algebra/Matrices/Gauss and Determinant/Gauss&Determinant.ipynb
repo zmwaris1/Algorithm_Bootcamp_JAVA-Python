{
 "cells": [
  {
   "cell_type": "markdown",
   "metadata": {},
   "source": [
    "### Calculating determinant of a matrix by Gauss"
   ]
  },
  {
   "cell_type": "markdown",
   "metadata": {},
   "source": [
    "<b>Problem</b>: Given a matrix $A$ of size $N*N$. Compute it's determinant?"
   ]
  },
  {
   "cell_type": "markdown",
   "metadata": {},
   "source": [
    "<b>Algorithm</b>: \n",
    "\n",
    "We perform the same steps as in the solution of SLE(System of linear equations), excluding only the division of the current line to $a_{ij}$. Those operations will not change the absolute value of the determinant of the matrix, however the sign of determinant can change.\n",
    "\n",
    "After applying Gauss on the matrix we get a diagonal matrix, whose determinant is just the product of the elements of the diagonal. The sign can be determined by the number of exchange of rows. Thus the Gauss algorithm can be used to compute the determinant in $O(n^{3})$ time complexity."
   ]
  }
 ],
 "metadata": {
  "language_info": {
   "name": "python"
  },
  "orig_nbformat": 4
 },
 "nbformat": 4,
 "nbformat_minor": 2
}
