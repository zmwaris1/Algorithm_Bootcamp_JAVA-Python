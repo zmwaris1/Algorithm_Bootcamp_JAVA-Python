{
 "cells": [
  {
   "cell_type": "markdown",
   "metadata": {},
   "source": [
    "### Rank of a Matrix\n",
    "\n",
    "The rank of a matrix is the largest number of linearly independent rows/columns of the matrix."
   ]
  },
  {
   "cell_type": "markdown",
   "metadata": {},
   "source": [
    "The rank of a matrix can also be defined as the largest order of any non-zero minor in the matrix.\n",
    "\n",
    "Let the matrix be rectangular and have size $N*M$. Note that if the matrix is square and it's determinant is non-zero, then the rank is $N(=M)$, otherwise it will be less. Generally the rank of matrix does not exceed $min(N, m)$."
   ]
  },
  {
   "cell_type": "markdown",
   "metadata": {},
   "source": [
    "#### Algorithm\n",
    "\n",
    "You can search for the rank using Gaussian elimination. We will perform the same operations as when solving for the SLE or the determinant. But if at any step in the $i$-th column there are no rows with an non-empty entry among those that we didn't selected already then we skip the step. Otherwise if we have found a row with a non-zero element in the $i$-th column during the $i$-th step, then we mark this row as selected one, increase the rank by one(initially setting the rank to 0), and perform the usual operations of taking this row away from the rest. The algorithm runs in $O(n^{3})$."
   ]
  }
 ],
 "metadata": {
  "language_info": {
   "name": "python"
  },
  "orig_nbformat": 4
 },
 "nbformat": 4,
 "nbformat_minor": 2
}
