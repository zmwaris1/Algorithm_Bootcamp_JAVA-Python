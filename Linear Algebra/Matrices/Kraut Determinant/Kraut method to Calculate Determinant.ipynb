{
 "cells": [
  {
   "cell_type": "markdown",
   "metadata": {},
   "source": [
    "### Kraut method to Calculate Determinant"
   ]
  },
  {
   "cell_type": "markdown",
   "metadata": {},
   "source": [
    "The Kraut method finds decomposition of a matrix as $A=LU$ where $L$ is the lower triangular and $U$ is the upper triangular matrix. We can assume that all the diagonal elements of $L$ are equal to $1$. Once we know the matrices, it is easy to calculate the determinant of $A$; it is equal to the product of all the elements on the main diagonal of the matrix $U$.\n",
    "\n",
    "A theorem states that any invertible matrix has LU-decomposition, and it is unique, if and only if all it's principles minors are non-zero. We consider only such decomposition in which the diagonal of matrix $L$ consists of ones."
   ]
  },
  {
   "cell_type": "markdown",
   "metadata": {},
   "source": [
    "Let $A$ be the matrix and $N$ - it's size. We will find the elements of the matrices $L$ and $U$ using the following steps.\n",
    "\n",
    "1. Let $L_{ii} = 1$ for $i = 1, 2, ..., N$.\n",
    "2. For each $j=1, 2, ..., N perform the following steps:\n",
    "    1. For $i=1, 2, ..., j$ find values\n",
    "            $U_{ij} = A_{ij} - \\sum_{k=1}^{i-1}L_{ik}*U_{kj}$\n",
    "    \n",
    "    2. Next, for $i = j + 1, j+2, ..., N$ find values:\n",
    "            $L_{ij} = \\frac{1}{U_{jj}}(A_{ij}-\\sum_{k=1}^{j-1}L_{ik}*U_{kj})$"
   ]
  },
  {
   "cell_type": "markdown",
   "metadata": {},
   "source": []
  }
 ],
 "metadata": {
  "language_info": {
   "name": "python"
  },
  "orig_nbformat": 4
 },
 "nbformat": 4,
 "nbformat_minor": 2
}
